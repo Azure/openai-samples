{
 "cells": [
  {
   "cell_type": "markdown",
   "id": "278e7451",
   "metadata": {},
   "source": [
    "<h1 align =\"center\"> Python SDK Sample</h1>\n",
    "<hr>\n",
    "\n",
    "# Completions"
   ]
  },
  {
   "cell_type": "code",
   "execution_count": null,
   "id": "b5655453",
   "metadata": {},
   "outputs": [],
   "source": [
    "# if needed, upgrade to the latest version of the OpenAI Python library\n",
    "%pip install --upgrade openai"
   ]
  },
  {
   "cell_type": "code",
   "execution_count": 1,
   "id": "ccbb9a99",
   "metadata": {},
   "outputs": [],
   "source": [
    "# import os module & the OpenAI Python library for calling the OpenAI API\n",
    "# please make sure you have installed required libraries via pip install -r requirements.txt\n",
    "import os\n",
    "import openai\n",
    "import json"
   ]
  },
  {
   "cell_type": "markdown",
   "id": "6d33f92a",
   "metadata": {},
   "source": [
    "### Setup Parameters"
   ]
  },
  {
   "cell_type": "code",
   "execution_count": 2,
   "id": "1d67d3b6",
   "metadata": {},
   "outputs": [],
   "source": [
    "# Load config values\n",
    "with open(r'config.json') as config_file:\n",
    "    config_details = json.load(config_file)\n",
    "    \n",
    "# Setting up the deployment name\n",
    "chatgpt_model_name = config_details['CHATGPT_MODEL']\n",
    "\n",
    "# This is set to `azure`\n",
    "openai.api_type = \"azure\"\n",
    "\n",
    "# The API key for your Azure OpenAI resource.\n",
    "openai.api_key = os.getenv(\"OPENAI_API_KEY\")\n",
    "\n",
    "# The base URL for your Azure OpenAI resource. e.g. \"https://<your resource name>.openai.azure.com\"\n",
    "openai.api_base = config_details['OPENAI_API_BASE']\n",
    "\n",
    "# Currently OPENAI API have the following versions available: 2022-12-01\n",
    "openai.api_version = config_details['OPENAI_API_VERSION']"
   ]
  },
  {
   "cell_type": "markdown",
   "id": "c9034fd0",
   "metadata": {},
   "source": [
    "OpenAI trained the gpt-35-turbo model on special tokens that delineate the different parts of the prompt. The prompt starts with a system message that is used to prime the model followed by a series of messages between the user and the assistant.\n",
    "\n",
    "The format of a basic ChatML prompt is as follows:\n",
    "\n",
    "```\n",
    "<|im_start|>system \n",
    "Provide some context and/or instructions to the model.\n",
    "<|im_end|> \n",
    "<|im_start|>user \n",
    "The user’s message goes here\n",
    "<|im_end|> \n",
    "<|im_start|>assistant\n",
    "```"
   ]
  },
  {
   "cell_type": "code",
   "execution_count": 3,
   "id": "b3334e7c",
   "metadata": {},
   "outputs": [],
   "source": [
    "# defining a function to create the prompt from the system message and the messages\n",
    "def create_prompt(system_message, messages):\n",
    "    prompt = system_message\n",
    "    message_template = \"\\n<|im_start|>{}\\n{}\\n<|im_end|>\"\n",
    "    for message in messages:\n",
    "        prompt += message_template.format(message['sender'], message['text'])\n",
    "    prompt += \"\\n<|im_start|>assistant\\n\"\n",
    "    return prompt"
   ]
  },
  {
   "cell_type": "code",
   "execution_count": 4,
   "id": "a7247c0e",
   "metadata": {},
   "outputs": [],
   "source": [
    "# defining the system message\n",
    "system_message_template = \"<|im_start|>system\\n{}\\n<|im_end|>\"\n",
    "system_message = system_message_template.format(\"You are a marketing writing assistant. You help come up with creative content ideas and content like marketing emails, blog posts, tweets, ad copy and product descriptions. You write in a friendly yet professional tone but can tailor your writing style that best works for a user-specified audience. If you do not know the answer to a question, respond by saying \\\"I do not know the answer to your question.\\\"\")"
   ]
  },
  {
   "cell_type": "code",
   "execution_count": 5,
   "id": "f7718ba3",
   "metadata": {},
   "outputs": [],
   "source": [
    "# creating a list of messages\n",
    "messages = [\n",
    "            {\"sender\":\"user\",\"text\":\"Who won the world series in 2020?\"},\n",
    "            {\"sender\":\"assistant\",\"text\":\"\\rThe Los Angeles Dodgers won the World Series in 2020.\"}\n",
    "           ]"
   ]
  },
  {
   "cell_type": "code",
   "execution_count": 6,
   "id": "150a3db0",
   "metadata": {},
   "outputs": [
    {
     "name": "stdout",
     "output_type": "stream",
     "text": [
      "The Los Angeles Dodgers won the World Series in 2020.\n"
     ]
    }
   ],
   "source": [
    "# A sample API call for completions looks as follows:\n",
    "try:\n",
    "    response = openai.Completion.create(\n",
    "      engine=chatgpt_model_name,\n",
    "      prompt=create_prompt(system_message, messages),\n",
    "      temperature=1,\n",
    "      max_tokens=400,\n",
    "      top_p=0.95,\n",
    "      frequency_penalty=0,\n",
    "      presence_penalty=0,\n",
    "      stop=[\"<|im_end|>\"])\n",
    "\n",
    "    # print the response\n",
    "    print(response['choices'][0]['text'].strip())\n",
    "    \n",
    "except openai.error.APIError as e:\n",
    "    # Handle API error here, e.g. retry or log\n",
    "    print(f\"OpenAI API returned an API Error: {e}\")\n",
    "\n",
    "except openai.error.AuthenticationError as e:\n",
    "    # Handle Authentication error here, e.g. invalid API key\n",
    "    print(f\"OpenAI API returned an Authentication Error: {e}\")\n",
    "\n",
    "except openai.error.APIConnectionError as e:\n",
    "    # Handle connection error here\n",
    "    print(f\"Failed to connect to OpenAI API: {e}\")\n",
    "\n",
    "except openai.error.InvalidRequestError as e:\n",
    "    # Handle connection error here\n",
    "    print(f\"Invalid Request Error: {e}\")\n",
    "\n",
    "except openai.error.RateLimitError as e:\n",
    "    # Handle rate limit error\n",
    "    print(f\"OpenAI API request exceeded rate limit: {e}\")\n",
    "\n",
    "except openai.error.ServiceUnavailableError as e:\n",
    "    # Handle Service Unavailable error\n",
    "    print(f\"Service Unavailable: {e}\")\n",
    "\n",
    "except openai.error.Timeout as e:\n",
    "    # Handle request timeout\n",
    "    print(f\"Request timed out: {e}\")\n",
    "    \n",
    "except:\n",
    "    # Handles all other exceptions\n",
    "    print(\"An exception has occured.\")"
   ]
  },
  {
   "cell_type": "code",
   "execution_count": null,
   "id": "a03c4f2b",
   "metadata": {},
   "outputs": [],
   "source": []
  }
 ],
 "metadata": {
  "kernelspec": {
   "display_name": "Python 3 (ipykernel)",
   "language": "python",
   "name": "python3"
  },
  "language_info": {
   "codemirror_mode": {
    "name": "ipython",
    "version": 3
   },
   "file_extension": ".py",
   "mimetype": "text/x-python",
   "name": "python",
   "nbconvert_exporter": "python",
   "pygments_lexer": "ipython3",
   "version": "3.11.1"
  }
 },
 "nbformat": 4,
 "nbformat_minor": 5
}
