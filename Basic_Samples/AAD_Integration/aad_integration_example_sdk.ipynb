{
 "cells": [
  {
   "attachments": {},
   "cell_type": "markdown",
   "metadata": {},
   "source": [
    "# Azure OpenAI Service API with OpenAI Python SDK\n",
    "\n",
    "This notebook shows how to use the Azure OpenAI (AOAI) Service API with the [OpenAI Python SDK](https://github.com/openai/openai-python).\n",
    "\n",
    "### Prerequisites\n",
    "\n",
    "1. Setup for Azure Active Directory (AAD) authentication.\n",
    "    * See [Setup to use AAD and test with CLI](setup_aad.md).\n",
    "2. A Python environment setup with all the requirements.  \n",
    "    * See the [setup_python_env.md](setup_python_env.md) page for instructions on setting up your environment.\n",
    "\n",
    "### Configuring OpenAI SDK\n",
    "The OpenAI SDK can be configured via _config_ file.  \n",
    "\n",
    " | SDK Variable | Description |\n",
    " | -- | -- |\n",
    " | `api_type` | API Type.  Use `azure_ad` for AAD authentication.  |\n",
    " | `api_version` | API Version.  You can use `2022-12-01`. |\n",
    " | `api_base` | Base URL for the API.  This is the endpoint URL for your team. |\n",
    "\n"
   ]
  },
  {
   "cell_type": "code",
   "execution_count": 1,
   "metadata": {},
   "outputs": [],
   "source": [
    "import json\n",
    "import openai\n",
    "import os"
   ]
  },
  {
   "cell_type": "markdown",
   "metadata": {},
   "source": [
    "### Setup Parameters\n",
    "\n",
    "\n",
    "Here we will load the configurations from _config.json_ file to setup deployment_name, openai.api_base and openai.api_version."
   ]
  },
  {
   "cell_type": "code",
   "execution_count": 6,
   "metadata": {},
   "outputs": [],
   "source": [
    "# Load config values\n",
    "with open(r'config.json') as config_file:\n",
    "    config_details = json.load(config_file)\n",
    "\n",
    "# Setting up the deployment name\n",
    "deployment_name = config_details['COMPLETIONS_MODEL']\n",
    "\n",
    "# For Active Directory authentication\n",
    "openai.api_type = \"azure_ad\"\n",
    "\n",
    "# The base URL for your Azure OpenAI resource. e.g. \"https://<your resource name>.openai.azure.com\"\n",
    "openai.api_base = config_details['OPENAI_API_BASE']\n",
    "\n",
    "# Currently OPENAI API have the following versions available: 2022-12-01\n",
    "openai.api_version = config_details['OPENAI_API_VERSION']"
   ]
  },
  {
   "cell_type": "markdown",
   "metadata": {},
   "source": [
    "## Set up AAD authentication\n",
    "\n",
    "`DefaultAzureCredential` can read your credentials from the environment after doing `az login`. \n",
    "\n",
    "In VS Code, you can use the Azure Account extension to log in with your Azure account.  If you are running this notebook in VS Code, be sure to restart VS Code after you do `az login`.\n",
    "\n",
    "This article gives details on what identity `DefaultAzureCredential` uses: https://docs.microsoft.com/en-us/python/api/azure-identity/azure.identity.defaultazurecredential?view=azure-python\n",
    "\n",
    "If you get an error similar to the following, you can try using `AzureCliCredential` instead of `DefaultAzureCredential`:\n",
    "\n",
    "```\n",
    "DefaultAzureCredential failed to retrieve a token from the included credentials. Attempted credentials:     EnvironmentCredential: EnvironmentCredential authentication unavailable. Environment variables are not fully configured. Visit https://aka.ms/azsdk/python/identity/environmentcredential/troubleshoot to troubleshoot.this issue.     ManagedIdentityCredential: ManagedIdentityCredential authentication unavailable, no response from the IMDS endpoint.     SharedTokenCacheCredential: Azure Active Directory error '(invalid_scope) AADSTS70011: The provided request must include a 'scope' input parameter. The provided value for the input parameter 'scope' is not valid. The scope https://cognitiveservices.azure.com is not valid. The scope format is invalid. Scope must be in a valid URI form <https://example/scope> or a valid Guid <guid/scope>. \n",
    "```\n",
    "\n"
   ]
  },
  {
   "cell_type": "code",
   "execution_count": 3,
   "metadata": {},
   "outputs": [],
   "source": [
    "from azure.identity import DefaultAzureCredential, AzureCliCredential #DefaultAzureCredential should work but you may need AzureCliCredential to make the authentication work\n",
    "#default_credential = AzureCliCredential()\n",
    "default_credential = DefaultAzureCredential()"
   ]
  },
  {
   "cell_type": "markdown",
   "metadata": {},
   "source": [
    "## Define method to get a prompt completion using AAD authentication\n",
    "\n",
    "The `refresh_token` function below is used to get a new token when the current token expires.  The `refresh_token` method is called by the `get_completion` to get the token if it is not already set or if the token has expired."
   ]
  },
  {
   "cell_type": "code",
   "execution_count": 7,
   "metadata": {},
   "outputs": [],
   "source": [
    "import datetime\n",
    "\n",
    "token = None\n",
    "\n",
    "def refresh_token():\n",
    "    \"\"\"Refresh AAD token\"\"\"\n",
    "    global token\n",
    "    # Check if Azure token is still valid\n",
    "    if not token or datetime.datetime.fromtimestamp(token.expires_on) < datetime.datetime.now():\n",
    "        token = default_credential.get_token(\"https://cognitiveservices.azure.com\")\n",
    "\n",
    "def get_completion(**kwargs):\n",
    "    # Refresh token\n",
    "    refresh_token()\n",
    "    # Set the API key to be your Bearer token (yes this could be optimizaed to not do this every time :D) \n",
    "    openai.api_key = token.token\n",
    "    \n",
    "    return openai.Completion.create(\n",
    "        # Contact your team admin to get the name of your engine or model deployment.  \n",
    "        # This is the name that they used when they created the model deployment.\n",
    "        engine=deployment_name,\n",
    "        **kwargs\n",
    "    )\n"
   ]
  },
  {
   "cell_type": "markdown",
   "metadata": {},
   "source": [
    "## Test the API\n",
    "\n",
    "The payload parameters in the `get_completion` call are for illustration only and can be changed for your use case as described in the [reference](https://learn.microsoft.com/en-us/azure/cognitive-services/openai/reference)."
   ]
  },
  {
   "cell_type": "code",
   "execution_count": 8,
   "metadata": {},
   "outputs": [
    {
     "name": "stdout",
     "output_type": "stream",
     "text": [
      "{\n",
      "  \"choices\": [\n",
      "    {\n",
      "      \"finish_reason\": \"stop\",\n",
      "      \"index\": 0,\n",
      "      \"logprobs\": null,\n",
      "      \"text\": \"\\nthere was a little girl named Emma. She lived in a small village with her parents and two brothers. Emma was a very curious girl and loved to explore the world around her.\\n\\nOne day, Emma decided to go on an adventure. She packed her bag with food and water and set off into the forest. As she walked, she noticed many different animals and plants. She also saw a lot of strange and mysterious things.\\n\\nEmma eventually came across a small cottage in the middle of the forest. She knocked on the door and a kindly old woman answered. The woman welcomed Emma inside and offered her a warm meal and a place to sleep.\\n\\nThe old woman told Emma about the magical creatures that lived in the forest. She also told her about a powerful wizard who lived nearby. Emma was so excited to learn about all of these things and she decided to stay with the old woman for a while.\\n\\nThe old woman taught Emma many things about the forest and its creatures. She also gave Emma a magical necklace that would protect her from harm.\\n\\nEmma thanked the old woman for her kindness and hospitality and set off on her journey. She explored the forest and encountered many more magical creatures. Eventually, she made it to the wizard's castle and was granted three wishes.\\n\\nEmma used her wishes to help her family and the people of her village. She also used her wishes to protect the magical creatures of the forest.\\n\\nEmma's adventure changed her life forever. She returned home with a newfound appreciation for the world around her and a newfound respect for the magical creatures that lived in the forest.\"\n",
      "    }\n",
      "  ],\n",
      "  \"created\": 1680086585,\n",
      "  \"id\": \"cmpl-6zNYfdtf0KC5ArhdPJsUctgI7Ng3C\",\n",
      "  \"model\": \"text-davinci-003\",\n",
      "  \"object\": \"text_completion\",\n",
      "  \"usage\": {\n",
      "    \"completion_tokens\": 333,\n",
      "    \"prompt_tokens\": 5,\n",
      "    \"total_tokens\": 338\n",
      "  }\n",
      "}\n"
     ]
    }
   ],
   "source": [
    "# Example prompt \n",
    "prompt = \"Once upon a time\"\n",
    "\n",
    "response = get_completion(\n",
    "    prompt=prompt,\n",
    "    temperature=0.7,\n",
    "    max_tokens=300,\n",
    "    top_p=0.5,\n",
    "    stop=None\n",
    ")\n",
    "\n",
    "# printing the response\n",
    "print(response)"
   ]
  },
  {
   "cell_type": "code",
   "execution_count": null,
   "metadata": {},
   "outputs": [],
   "source": []
  }
 ],
 "metadata": {
  "kernelspec": {
   "display_name": "Python 3 (ipykernel)",
   "language": "python",
   "name": "python3"
  },
  "language_info": {
   "codemirror_mode": {
    "name": "ipython",
    "version": 3
   },
   "file_extension": ".py",
   "mimetype": "text/x-python",
   "name": "python",
   "nbconvert_exporter": "python",
   "pygments_lexer": "ipython3",
   "version": "3.11.1"
  },
  "vscode": {
   "interpreter": {
    "hash": "5453039e1c3beadcd7c6bc838a2f5d2d849c1bfa9a5a5e848cf27873534572b2"
   }
  }
 },
 "nbformat": 4,
 "nbformat_minor": 2
}
