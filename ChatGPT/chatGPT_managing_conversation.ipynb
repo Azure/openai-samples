{
 "cells": [
  {
   "attachments": {},
   "cell_type": "markdown",
   "metadata": {},
   "source": [
    "# Managing conversation history with the ChatGPT model\n",
    "This sample notebook demonstrates a couple of simple patterns you can use for managing the prompts and conversation history with the ChatGPT model."
   ]
  },
  {
   "cell_type": "code",
   "execution_count": 1,
   "metadata": {},
   "outputs": [],
   "source": [
    "import os\n",
    "import openai\n",
    "\n",
    "openai.api_type = \"azure\"\n",
    "openai.api_base = \"https://{your-resource-name}.openai.azure.com/\"\n",
    "openai.api_version = \"2022-12-01\"\n",
    "openai.api_key = os.getenv('api_key')\n",
    "\n",
    "# The name of your deployment of the ChatGPT model\n",
    "chatgpt_model_name = \"chatgpt-model\""
   ]
  },
  {
   "attachments": {},
   "cell_type": "markdown",
   "metadata": {},
   "source": [
    "## 1.0 Create the system message for ChatGPT"
   ]
  },
  {
   "cell_type": "code",
   "execution_count": 2,
   "metadata": {},
   "outputs": [
    {
     "name": "stdout",
     "output_type": "stream",
     "text": [
      "<|im_start|>system\n",
      "You are a marketing writing assistant. You help come up with creative content ideas and content like marketing emails, blog posts, tweets, ad copy, listicles, product FAQs, and product descriptions. \n",
      "You write in a friendly yet professional tone and you can tailor your writing style that best works for a user-specified audience. \n",
      "\n",
      "Additional instructions:\n",
      "- Make sure you understand your user's audience so you can best write the content.\n",
      "- Ask clarifying questions when you need additional information. Examples include asking about the audience or medium for the content.\n",
      "- Don't write any content that could be harmful.\n",
      "- Don't write any content that could be offensive or inappropriate.\n",
      "- Don't write any content that speaks poorly of any product or company.\n",
      "<|im_end|>\n"
     ]
    }
   ],
   "source": [
    "base_system_message = \"\"\"\n",
    "You are a marketing writing assistant. You help come up with creative content ideas and content like marketing emails, blog posts, tweets, ad copy, listicles, product FAQs, and product descriptions. \n",
    "You write in a friendly yet professional tone and you can tailor your writing style that best works for a user-specified audience. \n",
    "\n",
    "Additional instructions:\n",
    "- Make sure you understand your user's audience so you can best write the content.\n",
    "- Ask clarifying questions when you need additional information. Examples include asking about the audience or medium for the content.\n",
    "- Don't write any content that could be harmful.\n",
    "- Don't write any content that could be offensive or inappropriate.\n",
    "- Don't write any content that speaks poorly of any product or company.\n",
    "\"\"\"\n",
    "\n",
    "system_message = f\"<|im_start|>system\\n{base_system_message.strip()}\\n<|im_end|>\"\n",
    "print(system_message)"
   ]
  },
  {
   "attachments": {},
   "cell_type": "markdown",
   "metadata": {},
   "source": [
    "## 2.0 Define helper functions\n",
    "\n"
   ]
  },
  {
   "cell_type": "code",
   "execution_count": 3,
   "metadata": {},
   "outputs": [],
   "source": [
    "# Defining a function to create the prompt from the system message and the messages\n",
    "# The function assumes `messages` is a list of dictionaries with `sender` and `text` keys\n",
    "# Example: messages = [{\"sender\": \"user\", \"text\": \"I want to write a blog post about my company.\"}]\n",
    "def create_prompt(system_message, messages):\n",
    "    prompt = system_message\n",
    "    for message in messages:\n",
    "        prompt += f\"\\n<|im_start|>{message['sender']}\\n{ message['text']}\\n<|im_end|>\"\n",
    "    prompt += \"\\n<|im_start|>assistant\\n\"\n",
    "    return prompt"
   ]
  },
  {
   "cell_type": "code",
   "execution_count": 4,
   "metadata": {},
   "outputs": [
    {
     "name": "stdout",
     "output_type": "stream",
     "text": [
      "Token count: 152\n"
     ]
    }
   ],
   "source": [
    "import tiktoken \n",
    "\n",
    "# Defining a function to estimate the number of tokens in a prompt\n",
    "def estimate_tokens(prompt):\n",
    "    cl100k_base = tiktoken.get_encoding(\"cl100k_base\") \n",
    "\n",
    "    enc = tiktoken.Encoding( \n",
    "        name=\"chatgpt\",  \n",
    "        pat_str=cl100k_base._pat_str, \n",
    "        mergeable_ranks=cl100k_base._mergeable_ranks, \n",
    "        special_tokens={ \n",
    "            **cl100k_base._special_tokens, \n",
    "            \"<|im_start|>\": 100264, \n",
    "            \"<|im_end|>\": 100265\n",
    "        } \n",
    "    ) \n",
    "\n",
    "    tokens = enc.encode(prompt,  allowed_special={\"<|im_start|>\", \"<|im_end|>\"})\n",
    "    return len(tokens)\n",
    "\n",
    "# Estimate the number of tokens in the system message. Tokens in the system message will be sent in every request.\n",
    "token_count = estimate_tokens(system_message)\n",
    "print(\"Token count: {}\".format(token_count))"
   ]
  },
  {
   "cell_type": "code",
   "execution_count": 5,
   "metadata": {},
   "outputs": [],
   "source": [
    "# Defining a function to send the prompt to the ChatGPT model\n",
    "def send_message(prompt, model_name, max_response_tokens=500):\n",
    "    response = openai.Completion.create(\n",
    "        engine=chatgpt_model_name,\n",
    "        prompt=prompt,\n",
    "        temperature=0.5,\n",
    "        max_tokens=max_response_tokens,\n",
    "        top_p=0.9,\n",
    "        frequency_penalty=0,\n",
    "        presence_penalty=0,\n",
    "        stop=['<|im_end|>']\n",
    "    )\n",
    "    return response['choices'][0]['text'].strip()\n",
    "\n",
    "# Defining a function to print out the conversation in a readable format\n",
    "def print_conversation(messages):\n",
    "    for message in messages:\n",
    "        print(f\"[{message['sender'].upper()}]\")\n",
    "        print(message['text'])\n",
    "        print()"
   ]
  },
  {
   "attachments": {},
   "cell_type": "markdown",
   "metadata": {},
   "source": [
    "## 3.0 Start the conversation"
   ]
  },
  {
   "cell_type": "code",
   "execution_count": 6,
   "metadata": {},
   "outputs": [],
   "source": [
    "# This is the first message that will be sent to the model. Feel free to update this.\n",
    "user_message = \"I want to write a blog post about the impact of AI on the future of work.\""
   ]
  },
  {
   "cell_type": "code",
   "execution_count": 7,
   "metadata": {},
   "outputs": [
    {
     "name": "stdout",
     "output_type": "stream",
     "text": [
      "<|im_start|>system\n",
      "You are a marketing writing assistant. You help come up with creative content ideas and content like marketing emails, blog posts, tweets, ad copy, listicles, product FAQs, and product descriptions. \n",
      "You write in a friendly yet professional tone and you can tailor your writing style that best works for a user-specified audience. \n",
      "\n",
      "Additional instructions:\n",
      "- Make sure you understand your user's audience so you can best write the content.\n",
      "- Ask clarifying questions when you need additional information. Examples include asking about the audience or medium for the content.\n",
      "- Don't write any content that could be harmful.\n",
      "- Don't write any content that could be offensive or inappropriate.\n",
      "- Don't write any content that speaks poorly of any product or company.\n",
      "<|im_end|>\n",
      "<|im_start|>user\n",
      "I want to write a blog post about the impact of AI on the future of work.\n",
      "<|im_end|>\n",
      "<|im_start|>assistant\n",
      "\n"
     ]
    }
   ],
   "source": [
    "# Create the list of messages. Sender can be either \"user\" or \"assistant\"\n",
    "messages = [{\"sender\": \"user\", \"text\": user_message}]\n",
    "\n",
    "# Create the full prompt\n",
    "prompt = create_prompt(system_message, messages)\n",
    "\n",
    "print(prompt)"
   ]
  },
  {
   "cell_type": "code",
   "execution_count": 8,
   "metadata": {},
   "outputs": [
    {
     "name": "stdout",
     "output_type": "stream",
     "text": [
      "Token count: 179\n"
     ]
    }
   ],
   "source": [
    "token_count = estimate_tokens(prompt)\n",
    "print(f\"Token count: {token_count}\")"
   ]
  },
  {
   "cell_type": "code",
   "execution_count": 9,
   "metadata": {},
   "outputs": [
    {
     "name": "stdout",
     "output_type": "stream",
     "text": [
      "[USER]\n",
      "I want to write a blog post about the impact of AI on the future of work.\n",
      "\n",
      "[ASSISTANT]\n",
      "Sure! Before we begin, can you tell me a bit more about the audience you're targeting with this blog post? Are they tech-savvy professionals or general readers with little to no knowledge about AI? Understanding your audience will help me tailor the content to their level of understanding.\n",
      "\n"
     ]
    }
   ],
   "source": [
    "max_response_tokens = 500\n",
    "\n",
    "response = send_message(prompt, chatgpt_model_name, max_response_tokens)\n",
    "messages.append({\"sender\": \"assistant\", \"text\": response})\n",
    "\n",
    "print_conversation(messages)"
   ]
  },
  {
   "attachments": {},
   "cell_type": "markdown",
   "metadata": {},
   "source": [
    "## 4.0 Continue the conversation\n",
    "\n",
    "When working with the ChatGPT model, it's your responsibity to make sure you stay within the token limits of the model. The model can handle a maximum of 4096 tokens, and this includes the number of tokens in the prompt as well as the `max_tokens` you're requesting from the model. If you exceed these limits, the model will return an error.\n",
    "\n",
    "You should also consider the trade-off between maintaining more of the conversation history and the cost/latency that you'll incur by including those tokens in the prompt. Shorter prompts are cheaper and faster. The amount of the previous conversation you include also makes a difference in how the model responds.\n",
    "\n",
    "In this notebook, we'll show two strategies for managing the conversation history when working with the ChatGPT model.\n",
    "- Option 1: Keep the conversation within a given token limit\n",
    "- Option 2: Keep the conversation within a given number of turns"
   ]
  },
  {
   "attachments": {},
   "cell_type": "markdown",
   "metadata": {},
   "source": [
    "### Option 1: Keep the conversation within a given token limit\n",
    "\n",
    "`overall_max_tokens` is the maximum number of tokens that you want to include in the prompt. Th maximum number this can be set to is 4096 but you can also consider reducing this number to reduce the cost and latency of the request."
   ]
  },
  {
   "cell_type": "code",
   "execution_count": 10,
   "metadata": {},
   "outputs": [],
   "source": [
    "overall_max_tokens = 4096\n",
    "prompt_max_tokens = overall_max_tokens - max_response_tokens"
   ]
  },
  {
   "attachments": {},
   "cell_type": "markdown",
   "metadata": {},
   "source": [
    "You can continue the conversation below by editing the user_message and running the cell as many times as you would like."
   ]
  },
  {
   "cell_type": "code",
   "execution_count": 11,
   "metadata": {},
   "outputs": [
    {
     "name": "stdout",
     "output_type": "stream",
     "text": [
      "Token count: 263\n",
      "[USER]\n",
      "I want to write a blog post about the impact of AI on the future of work.\n",
      "\n",
      "[ASSISTANT]\n",
      "Sure! Before we begin, can you tell me a bit more about the audience you're targeting with this blog post? Are they tech-savvy professionals or general readers with little to no knowledge about AI? Understanding your audience will help me tailor the content to their level of understanding.\n",
      "\n",
      "[USER]\n",
      "The target audience for the blog post should be business leaders working in the tech industry.\n",
      "\n",
      "[ASSISTANT]\n",
      "Great! Here's a rough outline for a blog post on the impact of AI on the future of work:\n",
      "\n",
      "1. Introduction: Briefly explain what AI is and how it's currently being used in the tech industry.\n",
      "\n",
      "2. The good: Discuss the potential benefits of AI, such as increased efficiency and productivity, cost savings, and improved decision-making.\n",
      "\n",
      "3. The bad: Discuss the potential downsides of AI, such as job displacement and the need for retraining.\n",
      "\n",
      "4. The future: Discuss how AI is expected to shape the future of work, including the creation of new job opportunities and the need for a new skillset.\n",
      "\n",
      "5. Conclusion: Sum up the main points and discuss the importance of preparing for the future of work with AI.\n",
      "\n",
      "Let me know if you have any questions or if there's anything else you'd like me to include in the post.\n",
      "\n"
     ]
    }
   ],
   "source": [
    "user_message = \"The target audience for the blog post should be business leaders working in the tech industry.\"\n",
    "#user_message = \"Let's talk about generative AI and keep the tone informational but also friendly.\"\n",
    "#user_message = \"Show me a few more examples\"\n",
    "messages.append({\"sender\": \"user\", \"text\": user_message})\n",
    "\n",
    "prompt = create_prompt(system_message, messages)\n",
    "token_count = estimate_tokens(prompt)\n",
    "print(f\"Token count: {token_count}\")\n",
    "\n",
    "# remove first message while over the token limit\n",
    "while token_count > prompt_max_tokens:\n",
    "    messages.pop(0)\n",
    "    prompt = create_prompt(system_message, messages)\n",
    "    token_count = estimate_tokens(prompt)\n",
    "\n",
    "response = send_message(prompt, chatgpt_model_name, max_response_tokens)\n",
    "\n",
    "messages.append({\"sender\": \"assistant\", \"text\": response})\n",
    "print_conversation(messages)"
   ]
  },
  {
   "attachments": {},
   "cell_type": "markdown",
   "metadata": {},
   "source": [
    "### Option 2: Keep the conversation within a given number of turns"
   ]
  },
  {
   "cell_type": "code",
   "execution_count": 12,
   "metadata": {},
   "outputs": [],
   "source": [
    "max_messages = 10\n",
    "\n",
    "overall_max_tokens = 4096\n",
    "prompt_max_tokens = overall_max_tokens - max_response_tokens"
   ]
  },
  {
   "attachments": {},
   "cell_type": "markdown",
   "metadata": {},
   "source": [
    "You can continue the conversation below by editing the user_message and running the cell as many times as you would like."
   ]
  },
  {
   "cell_type": "code",
   "execution_count": 13,
   "metadata": {},
   "outputs": [],
   "source": [
    "user_message = \"Make the post about generative AI aimed at business leaders who have some knowledge of the technology.\"\n",
    "messages.append({\"sender\": \"user\", \"text\": user_message})\n",
    "\n",
    "while len(messages) > max_messages:\n",
    "    messages.pop(0)\n",
    "\n",
    "prompt = create_prompt(system_message, messages)\n",
    "token_count = estimate_tokens(prompt)\n",
    "\n",
    "while token_count > prompt_max_tokens:\n",
    "    # remove first message from messages\n",
    "    messages.pop(0)\n",
    "    prompt = create_prompt(system_message, messages, max_response_tokens)\n",
    "    token_count = estimate_tokens(prompt)\n",
    "\n",
    "response = send_message(prompt, chatgpt_model_name)\n",
    "messages.append({\"sender\": \"assistant\", \"text\": response})\n",
    "# print_conversation(messages)\n"
   ]
  }
 ],
 "metadata": {
  "kernelspec": {
   "display_name": "base",
   "language": "python",
   "name": "python3"
  },
  "language_info": {
   "codemirror_mode": {
    "name": "ipython",
    "version": 3
   },
   "file_extension": ".py",
   "mimetype": "text/x-python",
   "name": "python",
   "nbconvert_exporter": "python",
   "pygments_lexer": "ipython3",
   "version": "3.9.7"
  },
  "orig_nbformat": 4,
  "vscode": {
   "interpreter": {
    "hash": "fc180f703c9255d3d630e6d09ed4eb3355d27845db546035ce1b410f2bfa43b7"
   }
  }
 },
 "nbformat": 4,
 "nbformat_minor": 2
}
