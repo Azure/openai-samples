{
 "cells": [
  {
   "cell_type": "markdown",
   "id": "011db2ec",
   "metadata": {},
   "source": [
    "#  Python SDK samples\n",
    "\n",
    "## Create a Completion\n",
    "\n",
    "Given a prompt, the model will return one or more predicted completions, and can also return the probabilities of alternative tokens at each position."
   ]
  },
  {
   "cell_type": "code",
   "execution_count": 1,
   "id": "a92744f4",
   "metadata": {},
   "outputs": [],
   "source": [
    "import json\n",
    "import openai\n",
    "import os\n",
    "\n",
    "# Load config values\n",
    "with open(r'../../config.json') as config_file:\n",
    "    config_details = json.load(config_file)\n",
    "    \n",
    "deployment_name = config_details['DEPLOYMENT_NAME']\n",
    "resource_name = config_details['RESOURCE_NAME']\n",
    "openai.api_key = config_details[\"OPENAI_API_KEY\"]"
   ]
  },
  {
   "cell_type": "code",
   "execution_count": 2,
   "id": "b15862a1",
   "metadata": {},
   "outputs": [
    {
     "name": "stdout",
     "output_type": "stream",
     "text": [
      "often stated as \"An object at rest stays at rest and an object in motion stays in motion with the same speed and in the same direction unless acted upon by an unbalanced force.\" This law is also known as the law of inertia. Inertia is the tendency of an object to resist changes in its state of motion.\n"
     ]
    }
   ],
   "source": [
    "openai.api_type = \"azure\"\n",
    "openai.api_key = openai.api_key\n",
    "openai.api_base = f\"https://{resource_name}.openai.azure.com\"\n",
    "openai.api_version = \"2022-12-01\"\n",
    "\n",
    "prompt = \"Newton's first law of motion is\"\n",
    "\n",
    "# create a completion\n",
    "completion = openai.Completion.create(\n",
    "                    prompt=prompt,\n",
    "                    temperature=0,\n",
    "                    max_tokens=300,\n",
    "                    engine=deployment_name)\n",
    "\n",
    "# print the completion\n",
    "print(completion.choices[0].text.strip(\" \\n\"))"
   ]
  },
  {
   "cell_type": "code",
   "execution_count": null,
   "id": "e58117b1",
   "metadata": {},
   "outputs": [],
   "source": []
  }
 ],
 "metadata": {
  "kernelspec": {
   "display_name": "Python 3 (ipykernel)",
   "language": "python",
   "name": "python3"
  },
  "language_info": {
   "codemirror_mode": {
    "name": "ipython",
    "version": 3
   },
   "file_extension": ".py",
   "mimetype": "text/x-python",
   "name": "python",
   "nbconvert_exporter": "python",
   "pygments_lexer": "ipython3",
   "version": "3.11.1"
  }
 },
 "nbformat": 4,
 "nbformat_minor": 5
}
