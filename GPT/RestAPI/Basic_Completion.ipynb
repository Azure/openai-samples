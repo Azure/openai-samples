{
 "cells": [
  {
   "cell_type": "markdown",
   "id": "759f9ec0",
   "metadata": {},
   "source": [
    "   #   REST API reference samples\n",
    "   \n",
    "   ## Create a Completion\n",
    "   \n",
    "Given a prompt, the model will return one or more predicted completions, and can also return the probabilities of alternative tokens at each position."
   ]
  },
  {
   "cell_type": "code",
   "execution_count": 1,
   "id": "f4b3d21a",
   "metadata": {},
   "outputs": [],
   "source": [
    "import requests\n",
    "import json\n",
    "\n",
    "# Load config values\n",
    "with open(r'../../config.json') as config_file:\n",
    "    config_details = json.load(config_file)\n",
    "    \n",
    "deployment_name = config_details['DEPLOYMENT_NAME']\n",
    "resource_name = config_details['RESOURCE_NAME']\n",
    "openai_api_key = config_details['OPENAI_API_KEY']"
   ]
  },
  {
   "cell_type": "code",
   "execution_count": 2,
   "id": "7a689d56",
   "metadata": {},
   "outputs": [
    {
     "name": "stdout",
     "output_type": "stream",
     "text": [
      "there was a little girl who loved to explore the world around her.\n"
     ]
    }
   ],
   "source": [
    "api_url = f\"https://{resource_name}.openai.azure.com/openai/deployments/{deployment_name}/completions?api-version=2022-12-01\"\n",
    "\n",
    "# Example prompt for request payload\n",
    "prompt=\"Once upon a time\"\n",
    "\n",
    "json_data = {\n",
    "  \"prompt\": prompt,\n",
    "  \"max_tokens\": 15\n",
    "}\n",
    "\n",
    "headers =  {\"api-key\": openai_api_key}\n",
    "response = requests.post(api_url, json=json_data, headers=headers)\n",
    "completion = response.json()\n",
    "\n",
    "# print the completion\n",
    "print(completion['choices'][0]['text'].strip(\" \\n\"))"
   ]
  },
  {
   "cell_type": "code",
   "execution_count": null,
   "id": "b5e04b9e",
   "metadata": {},
   "outputs": [],
   "source": []
  }
 ],
 "metadata": {
  "kernelspec": {
   "display_name": "Python 3 (ipykernel)",
   "language": "python",
   "name": "python3"
  },
  "language_info": {
   "codemirror_mode": {
    "name": "ipython",
    "version": 3
   },
   "file_extension": ".py",
   "mimetype": "text/x-python",
   "name": "python",
   "nbconvert_exporter": "python",
   "pygments_lexer": "ipython3",
   "version": "3.11.1"
  }
 },
 "nbformat": 4,
 "nbformat_minor": 5
}
