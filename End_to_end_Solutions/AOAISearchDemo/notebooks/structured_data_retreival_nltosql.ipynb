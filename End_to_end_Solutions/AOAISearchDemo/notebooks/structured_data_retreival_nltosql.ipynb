{
 "cells": [
  {
   "cell_type": "markdown",
   "metadata": {},
   "source": [
    "# Introduction"
   ]
  },
  {
   "cell_type": "markdown",
   "metadata": {},
   "source": [
    "This notebook demonstrates retreiving information from SQL Databases using Azure OpenAI. The notebook is a part of the larger work on End-to-End virtual assisstant demo.\n",
    "\n",
    "**Background**\n",
    "\n",
    "We assume the role of a regional sales manager, who is interesed in learning more about Sales of different Surface products, price points etc. Information on sales is available across multiple tables in the SQL Database. In this notebook, we illustrate how to retrieve information available in SQL databases through natural language questioning. Specifically:\n",
    "\n",
    "1. We ask (sales related) questions in natural language\n",
    "2. Pass the question to Azure OpenAI as prompt. The completion we get in return is a SQL query to retrieve the answer\n",
    "3. We run this SQL query on our database to retrieve an answer\n",
    "4. Finally, we pass the question and (SQL retreived answer) to Azure OpenAI. The completion we get in return is the answer in natural language.\n",
    "\n",
    "For information on retreiving information from unstructured data or for the integrated demo, please refer to other material within the bundle."
   ]
  },
  {
   "cell_type": "code",
   "execution_count": 1,
   "metadata": {},
   "outputs": [
    {
     "name": "stderr",
     "output_type": "stream",
     "text": [
      "C:\\Users\\mejani\\AppData\\Local\\Continuum\\anaconda3\\lib\\site-packages\\pandas\\compat\\_optional.py:138: UserWarning: Pandas requires version '2.7.0' or newer of 'numexpr' (version '2.6.9' currently installed).\n",
      "  warnings.warn(msg, UserWarning)\n"
     ]
    }
   ],
   "source": [
    "# Install Packages\n",
    "import openai\n",
    "import pyodbc\n",
    "import pandas as pd\n",
    "import time"
   ]
  },
  {
   "cell_type": "markdown",
   "metadata": {},
   "source": [
    "First, we set up Azure OpenAI and SQL Server"
   ]
  },
  {
   "cell_type": "code",
   "execution_count": 2,
   "metadata": {},
   "outputs": [],
   "source": [
    "def run_chat_resouce():\n",
    "    '''\n",
    "    Setup Azure OpenAI\n",
    "    '''\n",
    "    API_KEY = # SET YOUR OWN API KEY HERE\n",
    "    RESOURCE_ENDPOINT = \n",
    "    API_VERSION = \"2023-03-15-preview\" \n",
    "    \n",
    "    return API_KEY, RESOURCE_ENDPOINT, API_VERSION\n",
    "    \n",
    "def connect_sql_server(database):\n",
    "    '''\n",
    "    Setup SQL Server\n",
    "    '''\n",
    "    server = 'aoai-db-server.database.windows.net'  \n",
    "    username = \n",
    "    password = \n",
    "    cnxn = pyodbc.connect('DRIVER={SQL Server};SERVER='+server+';DATABASE='+database+';UID='+username+';PWD='+ password)\n",
    "    cursor = cnxn.cursor()\n",
    "    \n",
    "    return cnxn\n",
    "\n",
    "\n",
    "def run_sql_query(completion):\n",
    "    '''\n",
    "    Function to run the generated SQL Query on SQL server and retrieve output.\n",
    "    Input: AOAI completion (SQL Query)\n",
    "    Output: Pandas dataframe containing results of the query run\n",
    "    \n",
    "    '''\n",
    "    cnxn = connect_sql_server('aoai-db')\n",
    "    df = pd.read_sql(completion, cnxn)\n",
    "    return df\n",
    "\n",
    "\n",
    "openai.api_type = \"azure\"\n",
    "openai.api_key = run_chat_resouce()[0]\n",
    "openai.api_base = run_chat_resouce()[1]\n",
    "openai.api_version = run_chat_resouce()[2]\n"
   ]
  },
  {
   "cell_type": "markdown",
   "metadata": {},
   "source": [
    "# Prompt Engineering"
   ]
  },
  {
   "cell_type": "markdown",
   "metadata": {},
   "source": [
    "Let us look at the prompts to pass to Azure OpenAI for NL to SQL task. You find this prompt in **generate_nl_to_sql()**.\n",
    "\n",
    "*System Prompt*\n",
    "\n",
    "The first step is preparing the system prompt. This sets up the overall tone for GPT to answer Sales question. It also sets informs the bot the kind of questions it is authorized to answer.Following are some characteristics of our system prompt:\n",
    "1. We first generally describe the bots role (you are a SQL Programmer Assistant)\n",
    "2. We provide some additional details on the role:\n",
    "\n",
    "    a. Specify the SQL version to be used\n",
    "    \n",
    "    b. Insturctions for what to do if a valid query cannot be produced\n",
    "    \n",
    "    c. Instructions on what kind of questions to not answer\n",
    "    \n",
    "    d. Any other specific instruction.\n",
    "    \n",
    "    \n",
    "3. Since we are solving an NL to SQL problem, we need to provide the schema of the Sales database next. We provide column names along with datatypes, and relationship information by declaring primary and foreign keys\n",
    "4. Lastly, we provide some few shot examples. After experimentation on zero shot, few shot examples are added based on the types of queries we see most errors on. We make sure to pass these examples in the \"user\" and \"assistant\" role setup. \n",
    "\n",
    "*User Prompt*\n",
    "\n",
    "The next step is to prepare the user prompt. This is just the NL question to be asked. Make sure to follow some basic guidelines while phrasing questions:\n",
    "\n",
    "1. Be specific in what you are asking\n",
    "2. Make sure to phrase the question simply. Consider paraphrasing or breaking the question down into smaller segments in the question is involved.\n",
    "\n",
    "\n",
    "Our next prompt is to convert the query retreived answer into better format. You find this prompt in **generate_sql_to_nl()**\n",
    "\n",
    "*System Prompt*\n",
    "\n",
    "Since this is an easier task, the prompt is relatively simpler.\n",
    "\n",
    "1. Set the overall role for the bot\n",
    "2. Provide detailed instructions on the task to be performed (convert to natural language. Convert table to html table)\n",
    "3. provide guidance on what not to do (do not return markdown format)\n",
    "\n",
    "*User Prompt*\n",
    "\n",
    "The user prompt for this setup is just passing the original natural language question along with the SQL retreived answer."
   ]
  },
  {
   "cell_type": "code",
   "execution_count": 3,
   "metadata": {},
   "outputs": [],
   "source": [
    "def generate_nl_to_sql(prompt_in, history = []):\n",
    "    '''\n",
    "    This GPT4 engine is setup for NLtoSQL tasks on the Sales DB.\n",
    "    Input: NL question related to sales\n",
    "    Output: SQL query to run on the sales database\n",
    "    '''\n",
    "\n",
    "    messages=[\n",
    "            {\"role\": \"system\", \"content\": \"\"\" You are a SQL programmer Assistant.Your role is to generate SQL code (SQL Server) to retrieve an answer to a natural language query. Make sure to disambiguate column names when creating queries that use more than one table. If a valid SQL query cannot be generated, only say \"ERROR:\" followed by why it cannot be generated.\n",
    "                  Do not answer any questions on inserting or deleting rows from the table. Instead, say \"ERROR: I am not authorized to make changes to the data\"\n",
    "\n",
    "                  Use the following sales database schema to write SQL queries:\n",
    "                  Customers(cust_id INTEGER, cust_name VARCHAR, cust_email VARCHAR, cust_phone VARCHAR, cust_address VARCHAR, PRIMARY KEY (cust_id))\n",
    "                  Products(prod_id INTEGER,prod_name varchar, price FLOAT, category VARCHAR, PRIMARY KEY(prod_id))\n",
    "                  Stock(prod_id INTEGER, merchant_id INTEGER, stock INTEGER, PRIMARY KEY(prod_id, merchant_id), FOREIGN KEY(merchant_id, prod_id))\n",
    "                  Merchants(merchant_id INTEGER, merchant_name VARCHAR, merchant_region VARCHAR, merchant_address VARCHAR, PRIMARY KEY(merchant_id))\n",
    "                  Sales(sale_id INTEGER, cust_id INTEGER , merchant_id INTEGER , date TIMESTAMP, total_price FLOAT, PRIMARY KEY(sale_id),FOREIGN KEY(cust_id,merchant_id))\n",
    "                  Sales_Detail(sales_id INTEGER, prod_id INTEGER, quantity INTEGER, PRIMARY KEY(sales_id,prod_id), FOREIGN KEY(sales_id,prod_id))\n",
    "\n",
    "                  Examples:\n",
    "                  User: List all Surface accessories, along with their prices. SQL Code:\n",
    "                  Assistant: SELECT prod_name, category, price FROM Products WHERE prod_name like '%Surface%' and category like '%accessory%';\n",
    "                  User: Which is the cheapest Surface device? SQL Code:\n",
    "                  Assistant: SELECT TOP 1 prod_name, price FROM Products WHERE prod_name like '%Surface%' ORDER BY price ASC;\n",
    "                  User: How many Surface Laptop 5 does GadgetWorld have?\n",
    "                  Assistant: SELECT Merchants.merchant_id, Merchants.merchant_name, SUM(stock) as total_stock FROM Stock JOIN Merchants ON Stock.merchant_id = Merchants.merchant_id WHERE prod_id IN (SELECT prod_id FROM Products WHERE prod_name LIKE '%Surface Laptop 5%' and merchant_name like '%GadgetWorld%') GROUP BY Merchants.merchant_id, Merchants.merchant_name;\n",
    "                  User: how many surface devices were sold last week?\n",
    "                  Assistant: SELECT Sum(sales_detail.quantity) AS total_surface_devices_sold FROM sales_detail JOIN sales ON sales_detail.sales_id = sales.sale_id JOIN products ON sales_detail.prod_id = products.prod_id WHERE products.prod_name LIKE '%Surface%' AND sales.date >= Dateadd(wk, Datediff(wk, 0, Getdate()) - 1, 0) AND sales.date < Dateadd(wk, Datediff(wk, 0, Getdate()), 0); \n",
    "            \"\"\"}\n",
    "        ]\n",
    "\n",
    "    messages.extend(history)\n",
    "    messages.append({\"role\": \"user\", \"content\": prompt_in})\n",
    "    \n",
    "    response = openai.ChatCompletion.create(\n",
    "        engine=\"gpt-4\", # The deployment name you chose when you deployed the ChatGPT or GPT-4 model.\n",
    "        messages=messages,\n",
    "        temperature=0,\n",
    "        max_tokens=2000,\n",
    "        frequency_penalty=0,\n",
    "        presence_penalty=0,\n",
    "        stop=None\n",
    "    )\n",
    "    return response['choices'][0]['message']['content']\n",
    "\n",
    "def generate_sql_to_nl(prompt_in):\n",
    "    '''\n",
    "    This GPT4 engine is setup for SQLtoNL tasks on the Sales DB.\n",
    "    Input: Original question asked. Answer retreived from running SQL query.\n",
    "    Output: Natural language sentence(s).\n",
    "    '''\n",
    "    \n",
    "    response = openai.ChatCompletion.create(\n",
    "        engine=\"gpt-4\", # The deployment name you chose when you deployed the ChatGPT or GPT-4 model.\n",
    "        messages=[\n",
    "            {\"role\": \"system\", \"content\": \"\"\"You are bot that takes question-answer pairs and converts the answer to natural language. For tabular information return it as an html table. Do not return markdown format.\"\"\"},\n",
    "            {\"role\": \"user\", \"content\": prompt_in},\n",
    "        ],\n",
    "        temperature=0,\n",
    "        max_tokens=2000,\n",
    "        frequency_penalty=0,\n",
    "        presence_penalty=0,\n",
    "        stop=None\n",
    "    )\n",
    "\n",
    "    return response['choices'][0]['message']['content']"
   ]
  },
  {
   "cell_type": "markdown",
   "metadata": {},
   "source": [
    "# Examples"
   ]
  },
  {
   "cell_type": "markdown",
   "metadata": {},
   "source": [
    "In the subsequent cells, we demonstrate the setup in action. We first try out a simple question. Next, we try out a more involved question, which looks at information from multiple tables. Lastly, we see a multi-turn question i.e a question which requires context from the question previously asked.\n",
    "\n",
    "**Handling Multi-turn questions in prompts**\n",
    "\n",
    "In some cases, the user breaks down the question in two multiple parts as the conversation continues. In this case, GPT would require context from the history to be able to comprehend and correctly answer the current question. As a result, we add this extra information to the prompt before sending our current question. Specifically, \n",
    "1. We first append our conversation history to the prompt. We keep the \"user\", \"assistant\" format we have been following so far with our prompt. Within \"user\", we add the qustion asked in \"user\", and the NL answer recieved in \"assistant\". Make sure to keep the order of Q&A as it occured in the conversation.\n",
    "2. Finally, we add our current question to the prompt, and pass this newly updated prompt to generate_nl_to_sql()"
   ]
  },
  {
   "cell_type": "markdown",
   "metadata": {},
   "source": [
    "### Example 1: Products - A simple NLtoSQL query"
   ]
  },
  {
   "cell_type": "markdown",
   "metadata": {},
   "source": [
    "Our user input is the NL question, as an output, Azure OpenAI generates as completion the SQL query we should run on the Sales database to answer this question"
   ]
  },
  {
   "cell_type": "code",
   "execution_count": 4,
   "metadata": {},
   "outputs": [
    {
     "name": "stdout",
     "output_type": "stream",
     "text": [
      "SELECT prod_name, price FROM Products;\n"
     ]
    }
   ],
   "source": [
    "question_products = 'List our all products with their prices.'\n",
    "completion_products = generate_nl_to_sql(question_products)\n",
    "print(completion_products)"
   ]
  },
  {
   "cell_type": "markdown",
   "metadata": {},
   "source": [
    "We run the SQL query on our database. We retrive the information as a pandas dataframe"
   ]
  },
  {
   "cell_type": "code",
   "execution_count": 5,
   "metadata": {},
   "outputs": [
    {
     "name": "stdout",
     "output_type": "stream",
     "text": [
      "             prod_name    price\n",
      "0        Surface Pro 9   999.99\n",
      "1     Surface Laptop 5   899.99\n",
      "2   Surface Slim Pen 2    94.99\n",
      "3    Surface Laptop SE   299.99\n",
      "4  Surface Laptop Go 2   599.99\n",
      "5         Surface Go 3   384.99\n",
      "6    Surface Studio 2+  1199.99\n",
      "7          Surface Pen    99.99\n",
      "8        Surface Duo 2  1099.99\n",
      "9         Surface Dock   199.99\n"
     ]
    }
   ],
   "source": [
    "sql_output_products = run_sql_query(completion_products)\n",
    "print(sql_output_products)"
   ]
  },
  {
   "cell_type": "markdown",
   "metadata": {},
   "source": [
    "We ask OpenAI to convert this into a more \"Chat-setting friendly\" answer. We pass the question, and the answer to Azure OpenAI and ask it to convert the informtaion to an HTML table. In case of a non table asnwer, We ask Azure OpenAI to convert the answer to natural language format."
   ]
  },
  {
   "cell_type": "code",
   "execution_count": 6,
   "metadata": {},
   "outputs": [
    {
     "name": "stdout",
     "output_type": "stream",
     "text": [
      "<table>\n",
      "  <tr>\n",
      "    <th>Product Name</th>\n",
      "    <th>Price</th>\n",
      "  </tr>\n",
      "  <tr>\n",
      "    <td>Surface Pro 9</td>\n",
      "    <td>$999.99</td>\n",
      "  </tr>\n",
      "  <tr>\n",
      "    <td>Surface Laptop 5</td>\n",
      "    <td>$899.99</td>\n",
      "  </tr>\n",
      "  <tr>\n",
      "    <td>Surface Slim Pen 2</td>\n",
      "    <td>$94.99</td>\n",
      "  </tr>\n",
      "  <tr>\n",
      "    <td>Surface Laptop SE</td>\n",
      "    <td>$299.99</td>\n",
      "  </tr>\n",
      "  <tr>\n",
      "    <td>Surface Laptop Go 2</td>\n",
      "    <td>$599.99</td>\n",
      "  </tr>\n",
      "  <tr>\n",
      "    <td>Surface Go 3</td>\n",
      "    <td>$384.99</td>\n",
      "  </tr>\n",
      "  <tr>\n",
      "    <td>Surface Studio 2+</td>\n",
      "    <td>$1199.99</td>\n",
      "  </tr>\n",
      "  <tr>\n",
      "    <td>Surface Pen</td>\n",
      "    <td>$99.99</td>\n",
      "  </tr>\n",
      "  <tr>\n",
      "    <td>Surface Duo 2</td>\n",
      "    <td>$1099.99</td>\n",
      "  </tr>\n",
      "  <tr>\n",
      "    <td>Surface Dock</td>\n",
      "    <td>$199.99</td>\n",
      "  </tr>\n",
      "</table>\n"
     ]
    }
   ],
   "source": [
    "nl_output = generate_sql_to_nl(str(question_products +  str(sql_output_products.to_dict('list')) ))\n",
    "print(nl_output)"
   ]
  },
  {
   "cell_type": "markdown",
   "metadata": {},
   "source": [
    "<table>\n",
    "  <tr>\n",
    "    <th>Product Name</th>\n",
    "    <th>Price</th>\n",
    "  </tr>\n",
    "  <tr>\n",
    "    <td>Surface Pro 9</td>\n",
    "     <td>&#36;999.99</td>\n",
    "  </tr>\n",
    "  <tr>\n",
    "    <td>Surface Laptop 5</td>\n",
    "    <td>&#36;899.99</td>\n",
    "  </tr>\n",
    "  <tr>\n",
    "    <td>Surface Slim Pen 2</td>\n",
    "    <td>&#36;94.99</td>\n",
    "  </tr>\n",
    "  <tr>\n",
    "    <td>Surface Laptop SE</td>\n",
    "    <td>&#36;299.99</td>\n",
    "  </tr>\n",
    "  <tr>\n",
    "    <td>Surface Laptop Go 2</td>\n",
    "    <td>&#36;599.99</td>\n",
    "  </tr>\n",
    "  <tr>\n",
    "    <td>Surface Go 3</td>\n",
    "    <td>&#36;384.99</td>\n",
    "  </tr>\n",
    "  <tr>\n",
    "    <td>Surface Studio 2+</td>\n",
    "    <td>&#36;1199.99</td>\n",
    "  </tr>\n",
    "  <tr>\n",
    "    <td>Surface Pen</td>\n",
    "    <td>&#36;99.99</td>\n",
    "  </tr>\n",
    "  <tr>\n",
    "    <td>Surface Duo 2</td>\n",
    "    <td>&#36;1099.99</td>\n",
    "  </tr>\n",
    "  <tr>\n",
    "    <td>Surface Dock</td>\n",
    "    <td>&#36;199.99</td>\n",
    "  </tr>\n",
    "</table>"
   ]
  },
  {
   "cell_type": "markdown",
   "metadata": {},
   "source": [
    "### Example 2:  Sales - Example of Joins"
   ]
  },
  {
   "cell_type": "code",
   "execution_count": 7,
   "metadata": {},
   "outputs": [
    {
     "name": "stdout",
     "output_type": "stream",
     "text": [
      "SELECT SUM(Sales_Detail.quantity) AS total_laptops_sold\n",
      "FROM Sales_Detail\n",
      "JOIN Sales ON Sales_Detail.sales_id = Sales.sale_id\n",
      "JOIN Products ON Sales_Detail.prod_id = Products.prod_id\n",
      "WHERE Products.category = 'laptop'\n",
      "AND MONTH(Sales.date) = 12;\n"
     ]
    }
   ],
   "source": [
    "question_sales = 'How many laptops were sold in December?'\n",
    "completion_sales = generate_nl_to_sql(question_sales)\n",
    "print(completion_sales)"
   ]
  },
  {
   "cell_type": "code",
   "execution_count": 8,
   "metadata": {},
   "outputs": [
    {
     "name": "stdout",
     "output_type": "stream",
     "text": [
      "   total_laptops_sold\n",
      "0              534931\n"
     ]
    }
   ],
   "source": [
    "sql_output_sales = run_sql_query(completion_sales)\n",
    "print(sql_output_sales)"
   ]
  },
  {
   "cell_type": "code",
   "execution_count": 9,
   "metadata": {},
   "outputs": [
    {
     "name": "stdout",
     "output_type": "stream",
     "text": [
      "In December, a total of 534,931 laptops were sold.\n"
     ]
    }
   ],
   "source": [
    "nl_output = generate_sql_to_nl(str(question_sales +  str(sql_output_sales.to_dict('list')) ))\n",
    "print(nl_output)"
   ]
  },
  {
   "cell_type": "markdown",
   "metadata": {},
   "source": [
    "### Example 3: Stock - Example of Multi Turn questions"
   ]
  },
  {
   "cell_type": "code",
   "execution_count": 10,
   "metadata": {},
   "outputs": [
    {
     "name": "stdout",
     "output_type": "stream",
     "text": [
      "SELECT SUM(stock) as total_stock FROM Stock WHERE prod_id IN (SELECT prod_id FROM Products WHERE prod_name LIKE '%Surface Laptop 5%');\n"
     ]
    }
   ],
   "source": [
    "question_stock = 'How much stock of Surface Laptop 5 are we currently carrying?'\n",
    "completion_stock = generate_nl_to_sql(question_stock)\n",
    "print(completion_stock)"
   ]
  },
  {
   "cell_type": "code",
   "execution_count": 11,
   "metadata": {},
   "outputs": [
    {
     "name": "stdout",
     "output_type": "stream",
     "text": [
      "   total_stock\n",
      "0         2527\n"
     ]
    }
   ],
   "source": [
    "sql_output_stock = run_sql_query(completion_stock)\n",
    "print(sql_output_stock)"
   ]
  },
  {
   "cell_type": "code",
   "execution_count": 12,
   "metadata": {},
   "outputs": [
    {
     "name": "stdout",
     "output_type": "stream",
     "text": [
      "We are currently carrying a total stock of 2,527 units of Surface Laptop 5.\n"
     ]
    }
   ],
   "source": [
    "nl_output = generate_sql_to_nl(str(question_stock +  str(sql_output_stock.to_dict('list')) ))\n",
    "print(nl_output)"
   ]
  },
  {
   "cell_type": "code",
   "execution_count": 13,
   "metadata": {},
   "outputs": [
    {
     "data": {
      "text/plain": [
       "[{'role': 'user',\n",
       "  'content': 'How much stock of Surface Laptop 5 are we currently carrying?'},\n",
       " {'role': 'system',\n",
       "  'content': 'We are currently carrying a total stock of 2,527 units of Surface Laptop 5.'}]"
      ]
     },
     "execution_count": 13,
     "metadata": {},
     "output_type": "execute_result"
    }
   ],
   "source": [
    "history = []\n",
    "history.append({\"role\": \"user\",\"content\": question_stock})\n",
    "history.append({\"role\": \"system\",\"content\":nl_output})\n",
    "history"
   ]
  },
  {
   "cell_type": "code",
   "execution_count": 21,
   "metadata": {},
   "outputs": [
    {
     "name": "stdout",
     "output_type": "stream",
     "text": [
      "SELECT SUM(stock) as total_stock FROM Stock WHERE prod_id IN (SELECT prod_id FROM Products WHERE prod_name LIKE '%Surface Laptop 5%') AND merchant_id IN (SELECT merchant_id FROM Merchants WHERE merchant_name LIKE '%GadgetWorld%');\n"
     ]
    }
   ],
   "source": [
    "question_stock_2 = 'How much of this is in GadgetWorld?'\n",
    "completion_stock_2 = generate_nl_to_sql(question_stock_2, history)\n",
    "print(completion_stock_2)"
   ]
  },
  {
   "cell_type": "code",
   "execution_count": 22,
   "metadata": {},
   "outputs": [
    {
     "name": "stdout",
     "output_type": "stream",
     "text": [
      "   total_stock\n",
      "0          195\n"
     ]
    }
   ],
   "source": [
    "sql_output_stock_2 = run_sql_query(completion_stock_2)\n",
    "print(sql_output_stock_2)"
   ]
  },
  {
   "cell_type": "code",
   "execution_count": 27,
   "metadata": {},
   "outputs": [
    {
     "name": "stdout",
     "output_type": "stream",
     "text": [
      "There are 195 items in total stock at GadgetWorld.\n"
     ]
    }
   ],
   "source": [
    "nl_output = generate_sql_to_nl(str(question_stock_2 +  str(sql_output_stock_2.to_dict('list'))))\n",
    "print(nl_output)"
   ]
  }
 ],
 "metadata": {
  "kernelspec": {
   "display_name": "Python 3",
   "language": "python",
   "name": "python3"
  },
  "language_info": {
   "codemirror_mode": {
    "name": "ipython",
    "version": 3
   },
   "file_extension": ".py",
   "mimetype": "text/x-python",
   "name": "python",
   "nbconvert_exporter": "python",
   "pygments_lexer": "ipython3",
   "version": "3.7.3"
  }
 },
 "nbformat": 4,
 "nbformat_minor": 2
}
