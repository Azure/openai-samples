{
 "cells": [
  {
   "cell_type": "code",
   "execution_count": 1,
   "id": "9d07a3ad",
   "metadata": {
    "scrolled": true
   },
   "outputs": [],
   "source": [
    "%load_ext autoreload\n",
    "%autoreload 2"
   ]
  },
  {
   "cell_type": "markdown",
   "id": "78ec1c57",
   "metadata": {},
   "source": [
    "# Product Reviews Insights Generator\n",
    "\n",
    "Takes in product reviews and generates high level and statistical insights.\n",
    "\n",
    "First, some setup."
   ]
  },
  {
   "cell_type": "code",
   "execution_count": 2,
   "id": "f70e3bb6",
   "metadata": {
    "scrolled": false
   },
   "outputs": [],
   "source": [
    "from typing import List, Dict\n",
    "from aiohttp import web\n",
    "import json\n",
    "\n",
    "\n",
    "\n",
    "from insights_generator import util\n",
    "import insights_generator.core.utils as core_utils\n",
    "import insights_generator.core.nl_query as nl_query\n",
    "import insights_generator.core.extract_sentiment_aspects as extract_sentiment_aspects\n",
    "import insights_generator.core.extract_summary as extract_summary\n",
    "import insights_generator.core.extract_top_tags as extract_top_tags\n",
    "import insights_generator.core.extract_statistical_summary as extract_statistical_summary\n",
    "\n",
    "from datetime import datetime, timezone\n",
    "from pathlib import Path\n",
    "import logging\n",
    "import pdb\n",
    "import asyncio\n",
    "import dateutil.parser\n",
    "\n",
    "import os\n",
    "\n",
    "def json_load_from_filename(filename):\n",
    "    print('Reading json from file: ' + filename)\n",
    "    file = open(filename, encoding = 'utf-8')\n",
    "    results = json.load(file)\n",
    "    return(results)\n",
    "\n",
    "def json_dump_to_filename(data, filename):\n",
    "    print('Writing json to file: ' + filename)\n",
    "    file = open(filename, 'w', encoding = 'utf-8')\n",
    "    results = json.dump(data, file, indent = 4, sort_keys = True)\n",
    "    file.close()\n",
    "    return\n",
    "\n",
    "# Azure OpenAI configurations. This code was run on text-davinci-003\n",
    "os.environ[\"AOAI_ENDPOINT\"] = \"YOUR_AZURE_OPENAI_ENDPOINT_URL\"\n",
    "os.environ[\"AOAI_KEY\"] = \"YOUR_KEY\"\n",
    "\n",
    "store_summary_locally = False\n",
    "\n",
    "logger = logging.getLogger(__name__)\n",
    "logger.setLevel(logging.DEBUG)\n"
   ]
  },
  {
   "cell_type": "code",
   "execution_count": 3,
   "id": "372fe409",
   "metadata": {
    "scrolled": true
   },
   "outputs": [
    {
     "name": "stdout",
     "output_type": "stream",
     "text": [
      "Project metadata: \n",
      "{'name': 'headphones-1', 'productCategory': 'headphones', 'productName': 'Contoso headphones'}\n",
      "Reading json from file: sample_reviews/contoso_headphones.json\n"
     ]
    }
   ],
   "source": [
    "# Create the project\n",
    "project_object = {\n",
    "    \"name\" : \"headphones-1\",\n",
    "    \"productCategory\" : \"headphones\",\n",
    "    \"productName\" : \"Contoso headphones\"\n",
    "    }\n",
    "print(\"Project metadata: \")\n",
    "print(project_object)\n",
    "\n",
    "    \n",
    "# Read in reviews data\n",
    "reviews_filename = \"sample_reviews/contoso_headphones.json\"\n",
    "reviews = json_load_from_filename(reviews_filename)"
   ]
  },
  {
   "cell_type": "markdown",
   "id": "899a282a",
   "metadata": {},
   "source": [
    "# Identify topics being discussed in the reviews.\n",
    "\n",
    "First get aspects (i.e. topics) for each batch of reviews. Batching is done to standardize the aspect names across reviews."
   ]
  },
  {
   "cell_type": "code",
   "execution_count": 4,
   "id": "0b8473af",
   "metadata": {
    "scrolled": true
   },
   "outputs": [
    {
     "name": "stdout",
     "output_type": "stream",
     "text": [
      "Extracting sentiment aspects for 16 reviews\n",
      "Starting 4 parallel extractors\n",
      "Extracted sentiment aspects for 16 reviews in 3.282043933868408 seconds\n",
      "Done.\n",
      "Sentiment Aspects extracted for reviews.\n",
      "Sample review with sentiment aspects:\n",
      "{\n",
      "    \"review_text\": \"review: I recently purchased the Contoso 100 headphones and I'm really impressed with the sound quality. The noise cancellation is great and I can block out all outside noise. My only complaint is the battery life, which isn't as long as I'd like it to be.\\nreview: I've been using the Contoso 100 headphones for a few weeks now and I'm really pleased with them. The sound quality is excellent and the noise cancellation works great. The only downside is the battery life, which seems to run out too quickly.\\nreview: I recently bought the Contoso 100 headphones and I'm very happy with them. The sound quality is great and the noise cancellation is top notch. The only issue I have is with the battery life, which doesn't seem to last as long as I'd like.\\nreview: I've been using the Contoso 100 headphones for a few weeks now and I'm really impressed. The sound quality is excellent and the noise cancellation works really well. My only complaint is with the battery life, which doesn't seem to last very long.\\nreview: I recently bought the Contoso 100 headphones and I'm really happy with them. The sound quality is great and the noise cancellation works really well. My only issue is with the battery life, which seems to run out too quickly.\\nreview: I've been using the Contoso 100 headphones for a few weeks now and I'm really pleased with them. The sound quality is excellent and the noise cancellation works great. My only complaint is with the battery life, which doesn't seem to last very long.\",\n",
      "    \"sentiment_aspects\": [\n",
      "        [\n",
      "            \"sound quality\",\n",
      "            \"positive\"\n",
      "        ],\n",
      "        [\n",
      "            \"noise cancellation\",\n",
      "            \"positive\"\n",
      "        ],\n",
      "        [\n",
      "            \"battery life\",\n",
      "            \"negative\"\n",
      "        ]\n",
      "    ]\n",
      "}\n",
      "Writing json to file: reviews_with_sentiment_aspects.json\n"
     ]
    }
   ],
   "source": [
    "async def get_per_review_aspects(project_object, reviews):\n",
    "    \"\"\"Get aspects from each batch of reviews\n",
    "    \n",
    "    Reviews are batched.\n",
    "    Sentiment aspects are extracted from each batch as key value pairs\n",
    "    and stored with the key sentiment_aspects_key_value\n",
    "    The aspects thus extracted will be later used to get the top topics across all reviews.\n",
    "    The batching helps with standardizing the wording of the aspects.\n",
    "    \n",
    "    :param project_object: metadata of the project\n",
    "    :param reviews: reviews data\n",
    "    :type project_object: dict\n",
    "    :type reviews: list\n",
    "\n",
    "    :returns: list of batched reviews, with new key sentiment_aspects_key_value added\".\n",
    "    :rtype: list\n",
    "    \"\"\"\n",
    "\n",
    "    # Extract sentiment aspects from the reviews\n",
    "    product_category = project_object[\"productCategory\"]\n",
    "    product_name = project_object[\"productName\"]\n",
    "    batch_size = 6\n",
    "    #batch_size = 1\n",
    "    reviews_with_sentiment_aspects = extract_sentiment_aspects.extract_sentiment_aspects(reviews, product_name, batch_size)\n",
    "\n",
    "    return(reviews_with_sentiment_aspects)\n",
    "\n",
    "\n",
    "# Get per review aspects\n",
    "reviews_with_sentiment_aspects = await get_per_review_aspects(project_object, reviews)\n",
    "print(\"Sentiment Aspects extracted for reviews.\")\n",
    "print(\"Sample review with sentiment aspects:\")\n",
    "print(json.dumps(reviews_with_sentiment_aspects[0], indent = 4))\n",
    "json_dump_to_filename(reviews_with_sentiment_aspects, \"reviews_with_sentiment_aspects.json\")"
   ]
  },
  {
   "cell_type": "markdown",
   "id": "831fb447",
   "metadata": {},
   "source": [
    "Next get the most frequent aspects, by counting occurrences across batches."
   ]
  },
  {
   "cell_type": "code",
   "execution_count": 5,
   "id": "ee9ef267",
   "metadata": {},
   "outputs": [
    {
     "name": "stdout",
     "output_type": "stream",
     "text": [
      "Top aspects and scores:\n",
      "[\n",
      "    [\n",
      "        \"sound quality\",\n",
      "        3\n",
      "    ],\n",
      "    [\n",
      "        \"noise cancellation\",\n",
      "        3\n",
      "    ],\n",
      "    [\n",
      "        \"battery life\",\n",
      "        3\n",
      "    ]\n",
      "]\n"
     ]
    }
   ],
   "source": [
    "async def get_top_aspects(project_object, reviews_with_sentiment_aspects):\n",
    "    \"\"\"Get the top aspects\n",
    "    \n",
    "    Get the aspects that occur the most across all reviews.\n",
    "    \n",
    "    :param project_object: metadata of the project\n",
    "    :param reviews_with_sentiment_aspects: list of batched reviews with aspects information\n",
    "    :type project_object: dict\n",
    "    :type reviews_with_sentiment_aspects: list\n",
    "    :returns: list of top aspects and their occurrence count in review batches.\n",
    "    :rtype: list\n",
    "\n",
    "    \n",
    "    :Example:\n",
    "    \n",
    "    example of top aspects\n",
    "    ['product quality', 'sound quality', 'ease of use', 'battery life', 'noise cancellation', 'comfort']\n",
    "    \n",
    "    \"\"\"\n",
    "\n",
    "    # Extract top aspects\n",
    "    top_aspects = extract_top_tags.extract_top_tags(reviews_with_sentiment_aspects)\n",
    "\n",
    "    # Store top aspects in project metadata, used later.\n",
    "    project_object[\"top_aspects\"] = top_aspects\n",
    "\n",
    "    return(project_object, top_aspects)\n",
    "\n",
    "\n",
    "# Get the top aspects\n",
    "project_object, top_aspects = await get_top_aspects(project_object, reviews_with_sentiment_aspects)\n",
    "print(\"Top aspects and scores:\")\n",
    "print(json.dumps(list(zip(*top_aspects)), indent = 4))\n",
    "top_aspects = top_aspects[0]\n",
    "\n"
   ]
  },
  {
   "cell_type": "markdown",
   "id": "81868297",
   "metadata": {},
   "source": [
    "# Summarize the Top Topics (Aspects)\n",
    "\n",
    "\n",
    "An aspect (i.e. topic) is summarized both in NL (natural language) and statistically.\n",
    "\n",
    "1. Extracting sentiment + keyphrases for each review, for that aspect\n",
    "2. Statistical summary of sentiments is done\n",
    "3. Keyphrases are summarized as a NL (natural language) summary.\n",
    "\n",
    "This aspect level summary is a lot more accurate and scalable than summarizing all aspects across all reviews."
   ]
  },
  {
   "cell_type": "code",
   "execution_count": 6,
   "id": "0ea104bc",
   "metadata": {
    "scrolled": false
   },
   "outputs": [
    {
     "name": "stdout",
     "output_type": "stream",
     "text": [
      "Extracting keyphrases for sound quality\n",
      "Done.\n",
      "Extracting keyphrases for noise cancellation\n",
      "Done.\n",
      "Extracting keyphrases for battery life\n",
      "Done.\n",
      "Extracted all statistics\n"
     ]
    }
   ],
   "source": [
    "async def extract_statistics(project_object, reviews, top_aspects):\n",
    "    \n",
    "    \"\"\"Extract statistics for each top aspect\n",
    "    \n",
    "    An aspect can have three type of sentiments in a review: \"positive\", \"negative\" or \"unmentioned\".\n",
    "    Other sentiments besides positive and negative may be extracted by GPTx, but we summarize these as \"unmentioned\".\n",
    "    For each review, identify the sentiment for top aspects. Add this to the review object as \"top_aspect_sentiments\".\n",
    "    For each top aspect, get the sentiment statistics across reviews.\n",
    "    \n",
    "    For each aspect, we check if there are a significant number of mentions (at least 5 \"positive\" or \"negative\").\n",
    "    For each aspect, we check if there is a dominant sentiment. Either \"positive\" should have > 75% mentions.\n",
    "    Or \"negative\" should have > 75% mentions.  \n",
    "    Currently, we do not process aspects that have insignificant mentions or are mixed in overall sentiment.\n",
    "    If an aspect satisfies these conditions, we also calculate the following additional fields:\n",
    "    \"overall_sentiment\", \"percentage_positive\", \"keyphrases\" (per review), \"aspect_summary\" and \"aspect_action_items\".\n",
    "    \n",
    "    The \"keyphrases\" are ...\n",
    "    The \"aspect_summary\" is got by summarizing the \"keyphrases\" for this aspect, across all reviews.\n",
    "    Similarly for \"aspect_action_items\".\n",
    "    \n",
    "    Returns the list of reviews with \"top_aspect_sentiments\" added, and the statistics for top aspects.\n",
    "    \n",
    "    :param project_object: metadata of the project\n",
    "    :param reviews: list of reviews with aspects information\n",
    "    :param top_aspects: list of top aspects\n",
    "    :type project_object: dict\n",
    "    :type reviews: list\n",
    "    :type top_aspects: list\n",
    "    :returns: list of reviews with \"top_aspect_sentiments\" added, dict of statistics + summaries for each top aspect\n",
    "    :rtype: list, dict\n",
    "    \"\"\"\n",
    "\n",
    "\n",
    "    product_category = project_object[\"productCategory\"]\n",
    "    # Perform statistical summary\n",
    "    reviews_with_statistics, statistical_summary = extract_statistical_summary.extract_statistical_summary(product_category, reviews, top_aspects)\n",
    "\n",
    "    return(reviews_with_statistics, statistical_summary)\n",
    "\n",
    "# Extract statistical summaries\n",
    "reviews_with_statistics, statistical_summary = await extract_statistics(project_object, reviews, top_aspects)"
   ]
  },
  {
   "cell_type": "code",
   "execution_count": 7,
   "id": "cb522151",
   "metadata": {},
   "outputs": [
    {
     "name": "stdout",
     "output_type": "stream",
     "text": [
      "Sample review with top aspect sentiments:\n",
      "{\n",
      "    \"location\": \"US\",\n",
      "    \"profile_name\": \"James Smith\",\n",
      "    \"review_text\": \"I recently purchased the Contoso 100 headphones and I'm really impressed with the sound quality. The noise cancellation is great and I can block out all outside noise. My only complaint is the battery life, which isn't as long as I'd like it to be.\",\n",
      "    \"top_aspect_sentiments\": {\n",
      "        \"sound quality\": \"positive\",\n",
      "        \"noise cancellation\": \"positive\",\n",
      "        \"battery life\": \"negative\"\n",
      "    }\n",
      "}\n"
     ]
    }
   ],
   "source": [
    "print(\"Sample review with top aspect sentiments:\")\n",
    "print(json.dumps(reviews_with_statistics[0], indent = 4))"
   ]
  },
  {
   "cell_type": "code",
   "execution_count": 8,
   "id": "e49cbbfe",
   "metadata": {},
   "outputs": [
    {
     "name": "stdout",
     "output_type": "stream",
     "text": [
      "Aspect level summary, example for sound quality:\n",
      "{\n",
      "    \"positive\": 13,\n",
      "    \"unmentioned\": 2,\n",
      "    \"negative\": 1,\n",
      "    \"overall_sentiment\": \"positive\",\n",
      "    \"percentage_positive\": 92.85714285714286,\n",
      "    \"keyphrases\": [\n",
      "        {\n",
      "            \"keyphrases\": [\n",
      "                \" Great sound quality\",\n",
      "                \" Excellent noise cancellation\",\n",
      "                \" Battery life not as long as desired\"\n",
      "            ],\n",
      "            \"profile_name\": \"James Smith\",\n",
      "            \"location\": \"US\"\n",
      "        },\n",
      "        {\n",
      "            \"keyphrases\": [\n",
      "                \" Excellent sound quality\",\n",
      "                \" Great noise cancellation\"\n",
      "            ],\n",
      "            \"profile_name\": \"Jessica Johnson\",\n",
      "            \"location\": \"US\"\n",
      "        },\n",
      "        {\n",
      "            \"keyphrases\": [\n",
      "                \" Great sound quality\",\n",
      "                \" Top notch noise cancellation\"\n",
      "            ],\n",
      "            \"profile_name\": \"Adam Williams\",\n",
      "            \"location\": \"US\"\n",
      "        },\n",
      "        {\n",
      "            \"keyphrases\": [\n",
      "                \" Excellent sound quality\",\n",
      "                \" Effective noise cancellation\"\n",
      "            ],\n",
      "            \"profile_name\": \"Samantha Jones\",\n",
      "            \"location\": \"US\"\n",
      "        },\n",
      "        {\n",
      "            \"keyphrases\": [\n",
      "                \" Great sound quality\",\n",
      "                \" Effective noise cancellation\"\n",
      "            ],\n",
      "            \"profile_name\": \"Matthew Brown\",\n",
      "            \"location\": \"US\"\n",
      "        },\n",
      "        {\n",
      "            \"keyphrases\": [\n",
      "                \" Excellent sound quality\",\n",
      "                \" Great noise cancellation\"\n",
      "            ],\n",
      "            \"profile_name\": \"Emily Davis\",\n",
      "            \"location\": \"US\"\n",
      "        },\n",
      "        {\n",
      "            \"keyphrases\": [\n",
      "                \" Great sound quality\",\n",
      "                \" Excellent noise cancellation\",\n",
      "                \" Battery life not as long as desired\"\n",
      "            ],\n",
      "            \"profile_name\": \"John Taylor\",\n",
      "            \"location\": \"US\"\n",
      "        },\n",
      "        {\n",
      "            \"keyphrases\": [\n",
      "                \" Excellent sound quality\",\n",
      "                \" Great noise cancellation\"\n",
      "            ],\n",
      "            \"profile_name\": \"Olivia White\",\n",
      "            \"location\": \"US\"\n",
      "        },\n",
      "        {\n",
      "            \"keyphrases\": [\n",
      "                \" Great sound quality\",\n",
      "                \" Top notch noise cancellation\"\n",
      "            ],\n",
      "            \"profile_name\": \"Daniel Moore\",\n",
      "            \"location\": \"US\"\n",
      "        },\n",
      "        {\n",
      "            \"keyphrases\": [\n",
      "                \" Excellent sound quality\",\n",
      "                \" Effective noise cancellation\"\n",
      "            ],\n",
      "            \"profile_name\": \"Charlotte Anderson\",\n",
      "            \"location\": \"US\"\n",
      "        },\n",
      "        {\n",
      "            \"keyphrases\": [\n",
      "                \" Great sound quality\",\n",
      "                \" Effective noise cancellation\"\n",
      "            ],\n",
      "            \"profile_name\": \"William Thomas\",\n",
      "            \"location\": \"US\"\n",
      "        },\n",
      "        {\n",
      "            \"keyphrases\": [\n",
      "                \" Impressive sound quality\",\n",
      "                \" Effective noise cancellation capabilities\"\n",
      "            ],\n",
      "            \"profile_name\": \"Joshua Jackson\",\n",
      "            \"location\": \"US\"\n",
      "        },\n",
      "        {\n",
      "            \"keyphrases\": [\n",
      "                \" Excellent sound quality\",\n",
      "                \" Effective noise cancellation\"\n",
      "            ],\n",
      "            \"profile_name\": \"Amelia Harris\",\n",
      "            \"location\": \"US\"\n",
      "        }\n",
      "    ],\n",
      "    \"aspect_summary\": \"The comments indicate that the sound quality is excellent with great noise cancellation.\",\n",
      "    \"aspect_action_items\": null\n",
      "}\n"
     ]
    }
   ],
   "source": [
    "print(\"Aspect level summary, example for \" + top_aspects[0] + \":\")\n",
    "print(json.dumps(statistical_summary[top_aspects[0]], indent = 4))"
   ]
  },
  {
   "cell_type": "markdown",
   "id": "4b49d9cf",
   "metadata": {},
   "source": [
    "# Overall NL (Natural Language) Summaries\n",
    "\n",
    "The aspect level summaries from previous step are clubbed into high level NL (natural language) summaries."
   ]
  },
  {
   "cell_type": "code",
   "execution_count": 9,
   "id": "7e6ab509",
   "metadata": {},
   "outputs": [
    {
     "name": "stdout",
     "output_type": "stream",
     "text": [
      "Extracted NL version of statistical summary.\n",
      "{\n",
      "    \"overall\": \"The comments indicate that the sound quality and noise cancellation of the headphones are good, but the battery life is poor.\",\n",
      "    \"highlights\": \"The comments about the headphones indicate that they have excellent sound quality and great noise cancellation, with the latter being particularly impressive, as it is able to block out all outside noise.\",\n",
      "    \"lowlights\": \"The comments about the headphones indicate that the battery life is not satisfactory, as it runs out quickly and does not last as long as desired.\",\n",
      "    \"action_items\": {\n",
      "        \"battery life\": \"Specific issues regarding battery life include that it is not as expected, runs out quickly, and does not last as long as desired. To improve battery life, the manufacturer could use higher quality components, optimize the power management system, and reduce the power consumption of the device\"\n",
      "    }\n",
      "}\n"
     ]
    }
   ],
   "source": [
    "async def get_summary(project_object, statistical_summary):\n",
    "    \n",
    "    \"\"\"Create high level summaries of the per aspect summaries.\n",
    "    \n",
    "    Extract various types of summaries: overall, highlights, lowlights and action items from the per aspect summaries.\n",
    "    We only summarize aspects that have significant number of mentions and a dominant sentiment.\n",
    "        \n",
    "    :param project_object: metadata of the project\n",
    "    :param statistical_summary: dict of statistics and summaries for top aspects\n",
    "    :type project_object: dict\n",
    "    :type statistical_summary: dict\n",
    "    :returns: dict of various highlevel summaries\n",
    "    :rtype: dict\n",
    "    \"\"\"\n",
    "\n",
    "    product_category = project_object[\"productCategory\"]\n",
    "    \n",
    "    # Extract summary from the reviews\n",
    "    summary = extract_summary.extract_summary(product_category, statistical_summary)\n",
    "    \n",
    "    return(summary)\n",
    "\n",
    "# Extract summary\n",
    "summary = await get_summary(project_object, statistical_summary)\n",
    "print(json.dumps(summary, indent = 4))\n"
   ]
  }
 ],
 "metadata": {
  "kernelspec": {
   "display_name": "Python 3 (ipykernel)",
   "language": "python",
   "name": "python3"
  },
  "language_info": {
   "codemirror_mode": {
    "name": "ipython",
    "version": 3
   },
   "file_extension": ".py",
   "mimetype": "text/x-python",
   "name": "python",
   "nbconvert_exporter": "python",
   "pygments_lexer": "ipython3",
   "version": "3.10.6"
  }
 },
 "nbformat": 4,
 "nbformat_minor": 5
}
