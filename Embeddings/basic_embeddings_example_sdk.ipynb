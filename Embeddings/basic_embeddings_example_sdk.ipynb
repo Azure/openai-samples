{
 "cells": [
  {
   "cell_type": "markdown",
   "id": "91c3e58e",
   "metadata": {},
   "source": [
    "<h1 align =\"center\"> Python SDK Samples</h1>\n",
    "<hr>\n",
    "\n",
    "## Get Embeddings\n",
    "\n",
    "Get a vector representation of a given input that can be easily consumed by machine learning models and other algorithms.\n",
    "In this example we'll see how to get embeddings using the Azure endpoints."
   ]
  },
  {
   "cell_type": "code",
   "execution_count": 1,
   "id": "455ba0b6",
   "metadata": {},
   "outputs": [],
   "source": [
    "import json\n",
    "import openai\n",
    "import os"
   ]
  },
  {
   "cell_type": "markdown",
   "id": "74bc9ada",
   "metadata": {},
   "source": [
    "### Setup Parameters\n",
    "\n",
    "\n",
    "Here we will load the configurations from _config.json_ file to setup deployment name, openai api base, openai api key and openai api version."
   ]
  },
  {
   "cell_type": "code",
   "execution_count": 2,
   "id": "fc910f4d",
   "metadata": {},
   "outputs": [],
   "source": [
    "# Load config values\n",
    "with open(r'../config.json') as config_file:\n",
    "    config_details = json.load(config_file)\n",
    "    \n",
    "# Setting up the deployment name\n",
    "deployment_name = config_details['EMBEDDINGS_MODEL']\n",
    "\n",
    "# This is set to `azure`\n",
    "openai.api_type = \"azure\"\n",
    "\n",
    "# The API key for your Azure OpenAI resource.\n",
    "openai.api_key = os.getenv(\"OPENAI_API_KEY\")\n",
    "\n",
    "# The base URL for your Azure OpenAI resource. e.g. \"https://<your resource name>.openai.azure.com\"\n",
    "openai.api_base = config_details['OPENAI_API_BASE']\n",
    "\n",
    "# Currently OPENAI API have the following versions available: 2022-12-01\n",
    "openai.api_version = config_details['OPENAI_API_VERSION']"
   ]
  },
  {
   "cell_type": "code",
   "execution_count": 3,
   "id": "370fd0fd",
   "metadata": {},
   "outputs": [
    {
     "name": "stdout",
     "output_type": "stream",
     "text": [
      "[-0.021214839071035385, -0.006876592990010977, -0.017789261415600777, -0.04175134748220444, 0.001721267937682569, -0.022232338786125183, 0.019400300458073616, 0.0380883552134037, -0.0007700130809098482, -0.012676333077251911, -0.021096132695674896, 0.0023317669983953238, 0.012905270792543888, -0.016127347946166992, 0.004701690282672644, 0.014473913237452507, 0.006194021087139845, 0.007809299509972334, -0.012303250841796398, 0.01172666810452938]\n"
     ]
    }
   ],
   "source": [
    " try:\n",
    "    # Get embeddings\n",
    "    embeddings = openai.Embedding.create(engine=deployment_name, input=\"The food was delicious and the waiter...\")[\"data\"][0][\"embedding\"]\n",
    "\n",
    "    # Number of embeddings    \n",
    "    len(embeddings)\n",
    "    \n",
    "    # Print embeddings\n",
    "    print(embeddings[:20])\n",
    "        \n",
    "except openai.error.APIError as e:\n",
    "    # Handle API error here, e.g. retry or log\n",
    "    print(f\"OpenAI API returned an API Error: {e}\")\n",
    "\n",
    "except openai.error.AuthenticationError as e:\n",
    "    # Handle Authentication error here, e.g. invalid API key\n",
    "    print(f\"OpenAI API returned an Authentication Error: {e}\")\n",
    "\n",
    "except openai.error.APIConnectionError as e:\n",
    "    # Handle connection error here\n",
    "    print(f\"Failed to connect to OpenAI API: {e}\")\n",
    "\n",
    "except openai.error.InvalidRequestError as e:\n",
    "    # Handle connection error here\n",
    "    print(f\"Invalid Request Error: {e}\")\n",
    "\n",
    "except openai.error.RateLimitError as e:\n",
    "    # Handle rate limit error\n",
    "    print(f\"OpenAI API request exceeded rate limit: {e}\")\n",
    "\n",
    "except openai.error.ServiceUnavailableError as e:\n",
    "    # Handle Service Unavailable error\n",
    "    print(f\"Service Unavailable: {e}\")\n",
    "\n",
    "except openai.error.Timeout as e:\n",
    "    # Handle request timeout\n",
    "    print(f\"Request timed out: {e}\")"
   ]
  },
  {
   "cell_type": "code",
   "execution_count": null,
   "id": "5d010426",
   "metadata": {},
   "outputs": [],
   "source": []
  }
 ],
 "metadata": {
  "kernelspec": {
   "display_name": "Python 3 (ipykernel)",
   "language": "python",
   "name": "python3"
  },
  "language_info": {
   "codemirror_mode": {
    "name": "ipython",
    "version": 3
   },
   "file_extension": ".py",
   "mimetype": "text/x-python",
   "name": "python",
   "nbconvert_exporter": "python",
   "pygments_lexer": "ipython3",
   "version": "3.11.1"
  }
 },
 "nbformat": 4,
 "nbformat_minor": 5
}
