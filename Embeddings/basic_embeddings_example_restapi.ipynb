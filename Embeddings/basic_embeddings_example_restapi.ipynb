{
 "cells": [
  {
   "cell_type": "markdown",
   "id": "537de6a0",
   "metadata": {},
   "source": [
    "   #   REST API reference samples\n",
    "   \n",
    "   ## Get Embeddings\n",
    "   \n",
    "   In this example, we'll see how to get embeddings using REST API Call."
   ]
  },
  {
   "cell_type": "code",
   "execution_count": 1,
   "id": "bb6cdd7c",
   "metadata": {},
   "outputs": [],
   "source": [
    "import json\n",
    "import requests\n",
    "import openai\n",
    "import os"
   ]
  },
  {
   "cell_type": "markdown",
   "id": "9d490675",
   "metadata": {},
   "source": [
    "### Setup"
   ]
  },
  {
   "cell_type": "code",
   "execution_count": 2,
   "id": "49c86877",
   "metadata": {},
   "outputs": [],
   "source": [
    "# Load config values\n",
    "with open(r'../config.json') as config_file:\n",
    "    config_details = json.load(config_file)\n",
    "    \n",
    "deployment_name = config_details['EMBEDDING_MODEL']\n",
    "openai_api_base = config_details['OPENAI_API_BASE']\n",
    "openai_api_key = os.getenv(\"OPENAI_API_KEY\")\n",
    "openai_api_version = config_details['OPENAI_API_VERSION']"
   ]
  },
  {
   "cell_type": "code",
   "execution_count": 3,
   "id": "2ae6ba1d",
   "metadata": {},
   "outputs": [],
   "source": [
    "api_url = f\"{openai_api_base}/openai/deployments/{deployment_name}/embeddings?api-version={openai_api_version}\"\n",
    "\n",
    "# Example prompt for request payload\n",
    "input=\"The food was delicious and the waiter...\"\n",
    "\n",
    "json_data = {\n",
    "  \"input\": input\n",
    "}\n",
    "\n",
    "headers =  {\"api-key\": openai_api_key}\n",
    "response = requests.post(api_url, json=json_data, headers=headers)\n",
    "embeddings = response.json()"
   ]
  },
  {
   "cell_type": "code",
   "execution_count": 4,
   "id": "ec17cbc0",
   "metadata": {},
   "outputs": [
    {
     "name": "stdout",
     "output_type": "stream",
     "text": [
      "[-0.02121484, -0.006876593, -0.017789261, -0.041751347, 0.0017212679, -0.022232339, 0.0194003, 0.038088355, -0.0007700131, -0.012676333, -0.021096133, 0.002331767, 0.012905271, -0.016127348, 0.0047016903, 0.014473913, 0.006194021, 0.0078092995, -0.012303251, 0.011726668]\n"
     ]
    }
   ],
   "source": [
    "# Print embeddings\n",
    "print(embeddings['data'][0]['embedding'][:20])"
   ]
  },
  {
   "cell_type": "code",
   "execution_count": null,
   "id": "90bac576",
   "metadata": {},
   "outputs": [],
   "source": []
  }
 ],
 "metadata": {
  "kernelspec": {
   "display_name": "Python 3 (ipykernel)",
   "language": "python",
   "name": "python3"
  },
  "language_info": {
   "codemirror_mode": {
    "name": "ipython",
    "version": 3
   },
   "file_extension": ".py",
   "mimetype": "text/x-python",
   "name": "python",
   "nbconvert_exporter": "python",
   "pygments_lexer": "ipython3",
   "version": "3.11.1"
  }
 },
 "nbformat": 4,
 "nbformat_minor": 5
}
