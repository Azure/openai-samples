{
 "cells": [
  {
   "cell_type": "markdown",
   "id": "537de6a0",
   "metadata": {},
   "source": [
    "<h1 align =\"center\"> REST API Reference Samples</h1>\n",
    "<hr>\n",
    "   \n",
    "# Get Embeddings\n",
    "   \n",
    "Get a vector representation of a given input that can be easily consumed by machine learning models and other algorithms.\n",
    "In this example, we'll see how to get embeddings using REST API Call."
   ]
  },
  {
   "cell_type": "code",
   "execution_count": 1,
   "id": "bb6cdd7c",
   "metadata": {},
   "outputs": [],
   "source": [
    "import json\n",
    "import requests\n",
    "import openai\n",
    "import os"
   ]
  },
  {
   "cell_type": "markdown",
   "id": "9d490675",
   "metadata": {},
   "source": [
    "### Setup Parameters\n",
    "\n",
    "\n",
    "Here we will load the configurations from _config.json_ file to setup deployment_name, openai_api_base, openai_api_key and openai_api_version."
   ]
  },
  {
   "cell_type": "code",
   "execution_count": 2,
   "id": "49c86877",
   "metadata": {},
   "outputs": [],
   "source": [
    "# Load config values\n",
    "with open(r'../config.json') as config_file:\n",
    "    config_details = json.load(config_file)\n",
    "    \n",
    "# Setting up the deployment name\n",
    "deployment_name = config_details['EMBEDDINGS_MODEL']\n",
    "\n",
    "# The base URL for your Azure OpenAI resource. e.g. \"https://<your resource name>.openai.azure.com\"\n",
    "openai_api_base = config_details['OPENAI_API_BASE']\n",
    "\n",
    "# The API key for your Azure OpenAI resource.\n",
    "openai_api_key = os.getenv(\"OPENAI_API_KEY\")\n",
    "\n",
    "# Currently OPENAI API have the following versions available: 2022-12-01\n",
    "openai_api_version = config_details['OPENAI_API_VERSION']"
   ]
  },
  {
   "cell_type": "code",
   "execution_count": 3,
   "id": "2ae6ba1d",
   "metadata": {},
   "outputs": [
    {
     "name": "stdout",
     "output_type": "stream",
     "text": [
      "[-0.02121484, -0.006876593, -0.017789261, -0.041751347, 0.0017212679, -0.022232339, 0.0194003, 0.038088355, -0.0007700131, -0.012676333, -0.021096133, 0.002331767, 0.012905271, -0.016127348, 0.0047016903, 0.014473913, 0.006194021, 0.0078092995, -0.012303251, 0.011726668]\n"
     ]
    }
   ],
   "source": [
    "# Request URL\n",
    "api_url = f\"{openai_api_base}/openai/deployments/{deployment_name}/embeddings?api-version={openai_api_version}\"\n",
    "\n",
    "# Example prompt for request payload\n",
    "input=\"The food was delicious and the waiter...\"\n",
    "\n",
    "# Json payload\n",
    "json_data = {\n",
    "  \"input\": input\n",
    "}\n",
    "\n",
    "# Setting the API key in the HTTP headers\n",
    "headers =  {\"api-key\": openai_api_key}\n",
    "\n",
    "try:\n",
    "    # The response will contain embeddings, which you can extract, save, and use.\n",
    "    response = requests.post(api_url, json=json_data, headers=headers)\n",
    "\n",
    "    # Getting the JSON object of the result\n",
    "    embeddings = response.json()\n",
    "    \n",
    "    # Print embeddings\n",
    "    print(embeddings['data'][0]['embedding'][:20])\n",
    "    \n",
    "except:\n",
    "    print(\"An exception has occurred. \\n\")\n",
    "    print(\"Error Message:\", embeddings['error']['message'])"
   ]
  },
  {
   "cell_type": "code",
   "execution_count": null,
   "id": "90bac576",
   "metadata": {},
   "outputs": [],
   "source": []
  }
 ],
 "metadata": {
  "kernelspec": {
   "display_name": "Python 3 (ipykernel)",
   "language": "python",
   "name": "python3"
  },
  "language_info": {
   "codemirror_mode": {
    "name": "ipython",
    "version": 3
   },
   "file_extension": ".py",
   "mimetype": "text/x-python",
   "name": "python",
   "nbconvert_exporter": "python",
   "pygments_lexer": "ipython3",
   "version": "3.11.1"
  }
 },
 "nbformat": 4,
 "nbformat_minor": 5
}
