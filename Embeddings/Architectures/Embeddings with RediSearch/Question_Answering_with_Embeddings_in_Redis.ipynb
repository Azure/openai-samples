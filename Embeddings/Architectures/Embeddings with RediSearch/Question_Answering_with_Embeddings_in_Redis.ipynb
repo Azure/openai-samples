{
 "cells": [
  {
   "attachments": {},
   "cell_type": "markdown",
   "id": "c4ca8276-e829-4cff-8905-47534e4b4d4e",
   "metadata": {},
   "source": [
    "# Question Answering with Embeddings in Azure Cache for Redis (Enterprise)\n",
    "*This notebook has been edited from its [original form](https://github.com/openai/openai-cookbook/blob/main/examples/Question_answering_using_embeddings.ipynb) to store and retrieve embeddings with [Azure Cache for Redis](https://azure.microsoft.com/products/cache/).*\n",
    "\n",
    "Many use cases require [GPT-3](https://openai.com/blog/gpt-3-apps/) to respond to user questions with insightful answers. For example, a customer support chatbot may need to provide answers to common questions. The GPT models have picked up a lot of general knowledge in training, but we often need to ingest and use a large library of more specific information.\n",
    "\n",
    "In this notebook we will:\n",
    "- Demonstrate a method for enabling GPT-3 to answer questions using a library of text as a reference\n",
    "- Use document embeddings for KNN search and retrieval in Redis\n",
    "- Use a dataset of Wikipedia articles about the 2020 Summer Olympic Games.\n",
    "\n",
    "Refer to [this notebook](https://github.com/openai/openai-cookbook/blob/main/examples/fine-tuned_qa/olympics-1-collect-data.ipynb) to follow the data gathering process.\n",
    "\n",
    "## Table of Contents\n",
    "\n",
    "- [0 - Preventing hallucinations with prompt engineering](#0---preventing-hallucination-with-prompt-engineering)\n",
    "- [1 - Preprocess document library](#1---preprocess-the-document-library)\n",
    "  - [1.5 - Load the embeddings into Redis](#11---load-the-embeddings-into-redis)\n",
    "- [2 - Question and Document Similarity using Redis](#2---question-and-document-similarity-using-redis)\n",
    "- [3 - Add the most relevant document sections to the query prompt](#3---add-the-most-relevant-document-sections-to-the-query-prompt)\n",
    "- [4 - Answer the question based on the context](#4---answer-the-question-based-on-the-context)\n",
    "- [5 - Expanding capability with hybrid search](#5---expanding-capability-with-hybrid-search)"
   ]
  },
  {
   "cell_type": "code",
   "execution_count": null,
   "id": "1129e036",
   "metadata": {},
   "outputs": [],
   "source": [
    "# Install requirements\n",
    "! pip install -r requirements.txt"
   ]
  },
  {
   "attachments": {},
   "cell_type": "markdown",
   "id": "068d993e",
   "metadata": {},
   "source": [
    "### Make sure the following environmant variables are set"
   ]
  },
  {
   "cell_type": "code",
   "execution_count": 14,
   "id": "96b3bcf8",
   "metadata": {},
   "outputs": [],
   "source": [
    "import os\n",
    "\n",
    "#os.environ['OPENAI_API_KEY'] = '<your Azure OpenAI API key>'\n",
    "#os.environ['REDIS_PASSWORD'] = '<your password for Redis>'\n"
   ]
  },
  {
   "attachments": {},
   "cell_type": "markdown",
   "id": "3df61d38",
   "metadata": {},
   "source": [
    "### Connect to the Azure OpenAI Service and select the model names"
   ]
  },
  {
   "cell_type": "code",
   "execution_count": 15,
   "id": "9e3839a6-9146-4f60-b74b-19abbc24278d",
   "metadata": {},
   "outputs": [],
   "source": [
    "import openai\n",
    "import pickle\n",
    "import pandas as pd\n",
    "import numpy as np\n",
    "import typing as t\n",
    "\n",
    "from transformers import GPT2TokenizerFast\n",
    "\n",
    "# Point the OpenAI SDK to the Azure endpoint\n",
    "openai.api_type = \"azure\"\n",
    "openai.api_key = os.getenv(\"OPENAI_API_KEY\") \n",
    "openai.api_base = \"https://{}.openai.azure.com/\".format(\"<your-resource-name>\")\n",
    "openai.api_version = \"2022-12-01\"\n",
    "\n",
    "COMPLETIONS_MODEL = \"text-davinci-003\"\n",
    "DOC_EMBEDDINGS_MODEL = \"text-search-ada-doc-001\"\n",
    "QUERY_EMBEDDINGS_MODEL = \"text-search-ada-query-001\""
   ]
  },
  {
   "attachments": {},
   "cell_type": "markdown",
   "id": "73456268",
   "metadata": {},
   "source": [
    "### Connect to the Redis instance in Azure Cache for Redis\n",
    "[Redis Stack](https://redis.io/docs/stack/search/) is composed of a number of modules that extend Redis and its capabilities. In particular, [RediSearch](https://redis.io/docs/stack/search/reference/vectors/) enables fast vector search, and is what we will lean on here for this example!\n",
    "\n",
    "For example, Redis Stack gives you the ability to store documents in JSON (with RedisJSON) AND build search indices over top (with RediSearch 2.6+). These popular modules are only supported on the **Enterprise Tier of Azure Cache for Redis** or the Redis Stack docker container.\n",
    "\n",
    "Follow the instructions here to [create a Redis database with Stack enabled](https://learn.microsoft.com/azure/azure-cache-for-redis/cache-redis-modules#adding-modules-to-your-cache). "
   ]
  },
  {
   "cell_type": "code",
   "execution_count": 16,
   "id": "afd6648c",
   "metadata": {},
   "outputs": [],
   "source": [
    "import os\n",
    "import redis\n",
    "\n",
    "from redis.commands.search.indexDefinition import (\n",
    "    IndexDefinition,\n",
    "    IndexType\n",
    ")\n",
    "from redis.commands.search.query import Query\n",
    "from redis.commands.search.field import (\n",
    "    TextField,\n",
    "    NumericField,\n",
    "    VectorField\n",
    ")\n",
    "\n",
    "# Acquire your Redis Host, Port, and Password\n",
    "\n",
    "# Using Docker Redis\n",
    "#r = redis.Redis(host=\"localhost\", port=6379) # host=redis if inside same Docker network as the database\n",
    "\n",
    "# Using ACRE Redis - define connection args\n",
    "REDIS_PASSWORD = os.getenv(\"REDIS_PASSWORD\") \n",
    "REDIS_ENDPOINT =  \"\"\n",
    "REDIS_PORT = 10000\n",
    "\n",
    "# Connect to Redis\n",
    "r = redis.Redis(\n",
    "    host=REDIS_ENDPOINT,\n",
    "    port=REDIS_PORT,\n",
    "    password=REDIS_PASSWORD,\n",
    "    ssl=True\n",
    ") "
   ]
  },
  {
   "cell_type": "markdown",
   "id": "9312f62f-e208-4030-a648-71ad97aee74f",
   "metadata": {},
   "source": [
    "By default, GPT-3 isn't an expert on the 2020 Olympics:"
   ]
  },
  {
   "cell_type": "code",
   "execution_count": 17,
   "id": "a167516c-7c19-4bda-afa5-031aa0ae13bb",
   "metadata": {},
   "outputs": [
    {
     "data": {
      "text/plain": [
       "\"Marcelo Chierighini of Brazil won the gold medal in the men's high jump at the 2020 Summer Olympics.\""
      ]
     },
     "execution_count": 17,
     "metadata": {},
     "output_type": "execute_result"
    }
   ],
   "source": [
    "prompt = \"Who won the 2020 Summer Olympics men's high jump?\"\n",
    "\n",
    "openai.Completion.create(\n",
    "    prompt=prompt,\n",
    "    temperature=0,\n",
    "    max_tokens=300,\n",
    "    top_p=1,\n",
    "    frequency_penalty=0,\n",
    "    presence_penalty=0,\n",
    "    engine=COMPLETIONS_MODEL\n",
    ")[\"choices\"][0][\"text\"].strip(\" \\n\")"
   ]
  },
  {
   "attachments": {},
   "cell_type": "markdown",
   "id": "47204cce-a7d5-4c81-ab6e-53323026e08c",
   "metadata": {},
   "source": [
    "Marcelo is a gold medalist swimmer, and, we assume, not much of a high jumper! **Evidently GPT-3 needs some assistance here.**\n",
    "\n",
    "The first issue to tackle is that the model is hallucinating an answer rather than telling us \"I don't know\". This is bad because it makes it hard to trust the answer that the model gives us!\n",
    "\n",
    "# 0 - Preventing hallucination with prompt engineering\n",
    "\n",
    "We can address this hallucination issue by being more explicit with our prompt:\n"
   ]
  },
  {
   "cell_type": "code",
   "execution_count": 18,
   "id": "a5451371-17fe-4ef3-aa02-affcf4edb0e0",
   "metadata": {},
   "outputs": [
    {
     "data": {
      "text/plain": [
       "\"Sorry, I don't know.\""
      ]
     },
     "execution_count": 18,
     "metadata": {},
     "output_type": "execute_result"
    }
   ],
   "source": [
    "prompt = \"\"\"Answer the question as truthfully as possible, and if you're unsure of the answer, say \"Sorry, I don't know\".\n",
    "\n",
    "Q: Who won the 2020 Summer Olympics men's high jump?\n",
    "A:\"\"\"\n",
    "\n",
    "openai.Completion.create(\n",
    "    prompt=prompt,\n",
    "    temperature=0,\n",
    "    max_tokens=300,\n",
    "    top_p=1,\n",
    "    frequency_penalty=0,\n",
    "    presence_penalty=0,\n",
    "    engine=COMPLETIONS_MODEL\n",
    ")[\"choices\"][0][\"text\"].strip(\" \\n\")"
   ]
  },
  {
   "cell_type": "markdown",
   "id": "1af18d66-d47a-496d-ae5f-4c5d53caa434",
   "metadata": {},
   "source": [
    "To help the model answer the question, we provide extra contextual information in the prompt. When the total required context is short, we can include it in the prompt directly. For example we can use this information taken from Wikipedia. We update the initial prompt to tell the model to explicitly make use of the provided text."
   ]
  },
  {
   "cell_type": "code",
   "execution_count": 19,
   "id": "fceaf665-2602-4788-bc44-9eb256a6f955",
   "metadata": {},
   "outputs": [
    {
     "data": {
      "text/plain": [
       "'Gianmarco Tamberi and Mutaz Essa Barshim emerged as joint winners of the event.'"
      ]
     },
     "execution_count": 19,
     "metadata": {},
     "output_type": "execute_result"
    }
   ],
   "source": [
    "prompt = \"\"\"Answer the question as truthfully as possible using the provided text, and if the answer is not contained within the text below, say \"I don't know\"\n",
    "\n",
    "Context:\n",
    "The men's high jump event at the 2020 Summer Olympics took place between 30 July and 1 August 2021 at the Olympic Stadium.\n",
    "33 athletes from 24 nations competed; the total possible number depended on how many nations would use universality places \n",
    "to enter athletes in addition to the 32 qualifying through mark or ranking (no universality places were used in 2021).\n",
    "Italian athlete Gianmarco Tamberi along with Qatari athlete Mutaz Essa Barshim emerged as joint winners of the event following\n",
    "a tie between both of them as they cleared 2.37m. Both Tamberi and Barshim agreed to share the gold medal in a rare instance\n",
    "where the athletes of different nations had agreed to share the same medal in the history of Olympics. \n",
    "Barshim in particular was heard to ask a competition official \"Can we have two golds?\" in response to being offered a \n",
    "'jump off'. Maksim Nedasekau of Belarus took bronze. The medals were the first ever in the men's high jump for Italy and \n",
    "Belarus, the first gold in the men's high jump for Italy and Qatar, and the third consecutive medal in the men's high jump\n",
    "for Qatar (all by Barshim). Barshim became only the second man to earn three medals in high jump, joining Patrik Sjöberg\n",
    "of Sweden (1984 to 1992).\n",
    "\n",
    "Q: Who won the 2020 Summer Olympics men's high jump?\n",
    "A:\"\"\"\n",
    "\n",
    "openai.Completion.create(\n",
    "    prompt=prompt,\n",
    "    temperature=0,\n",
    "    max_tokens=300,\n",
    "    top_p=1,\n",
    "    frequency_penalty=0,\n",
    "    presence_penalty=0,\n",
    "    engine=COMPLETIONS_MODEL\n",
    ")[\"choices\"][0][\"text\"].strip(\" \\n\")"
   ]
  },
  {
   "attachments": {},
   "cell_type": "markdown",
   "id": "ee85ee77-d8d2-4788-b57e-0785f2d7e2e3",
   "metadata": {},
   "source": [
    "**Adding extra information into the prompt only works when the dataset of extra content that the model may need to know is small enough to fit in a single prompt**. What do we do when we need the model to choose relevant contextual information from within a large body of information?\n",
    "\n",
    "**In the remainder of this notebook, we will demonstrate a method for augmenting GPT-3 with a large body of additional contextual information by using document embeddings and retrieval in Azure Cache for Redis**\n",
    "\n",
    "This method answers queries in two steps: first it retrieves the information relevant to the query, then it writes an answer tailored to the question based on the retrieved information. The first step uses the [Embedding API](https://learn.microsoft.com/azure/cognitive-services/openai/how-to/embeddings?tabs=python), the second step uses the [Completions API](https://learn.microsoft.com/azure/cognitive-services/openai/how-to/completions).\n",
    "\n",
    "The steps are:\n",
    "* Preprocess the contextual information by splitting the docs into chunks and create an embedding vector for each chunk.\n",
    "* On receiving a query, embed the query in the same vector space as the context chunks and find the context embeddings which are most similar to the query using the **RediSearch** module.\n",
    "* Prepend the most relevant context embeddings to the query prompt.\n",
    "* Submit the question along with the most relevant context to GPT, and receive an answer which makes use of the provided contextual information."
   ]
  },
  {
   "attachments": {},
   "cell_type": "markdown",
   "id": "0c9bfea5-a028-4191-b9f1-f210d76ec4e3",
   "metadata": {},
   "source": [
    "# 1 - Preprocess the document library\n",
    "\n",
    "We plan to use document embeddings to fetch the most relevant part of parts of our document library and insert them into the prompt that we provide to GPT-3. We therefore need to break up the document library into \"sections\" of context, which can be searched and retrieved separately. \n",
    "\n",
    "Sections should be large enough to contain enough information to answer a question; but small enough to fit one or several into the GPT-3 prompt. We find that approximately a paragraph of text is usually a good length, but you should experiment for your particular use case. In this example, Wikipedia articles are already grouped into semantically related headers, so we will use these to define our sections. This preprocessing has already been done in [this notebook](https://github.com/openai/openai-cookbook/blob/main/examples/fine-tuned_qa/olympics-1-collect-data.ipynb), so we will load the results and use them."
   ]
  },
  {
   "cell_type": "code",
   "execution_count": 20,
   "id": "cc9c8d69-e234-48b4-87e3-935970e1523a",
   "metadata": {},
   "outputs": [
    {
     "name": "stdout",
     "output_type": "stream",
     "text": [
      "3964 rows in the data.\n"
     ]
    },
    {
     "data": {
      "text/html": [
       "<div>\n",
       "<style scoped>\n",
       "    .dataframe tbody tr th:only-of-type {\n",
       "        vertical-align: middle;\n",
       "    }\n",
       "\n",
       "    .dataframe tbody tr th {\n",
       "        vertical-align: top;\n",
       "    }\n",
       "\n",
       "    .dataframe thead th {\n",
       "        text-align: right;\n",
       "    }\n",
       "</style>\n",
       "<table border=\"1\" class=\"dataframe\">\n",
       "  <thead>\n",
       "    <tr style=\"text-align: right;\">\n",
       "      <th></th>\n",
       "      <th>title</th>\n",
       "      <th>heading</th>\n",
       "      <th>content</th>\n",
       "      <th>tokens</th>\n",
       "    </tr>\n",
       "  </thead>\n",
       "  <tbody>\n",
       "    <tr>\n",
       "      <th>3784</th>\n",
       "      <td>Serbia at the 2020 Summer Olympics</td>\n",
       "      <td>Table tennis</td>\n",
       "      <td>Serbia entered three athletes into the table t...</td>\n",
       "      <td>62</td>\n",
       "    </tr>\n",
       "    <tr>\n",
       "      <th>2681</th>\n",
       "      <td>Field hockey at the 2020 Summer Olympics – Wom...</td>\n",
       "      <td>Table</td>\n",
       "      <td>^1  – Japan qualified both as the hosts and th...</td>\n",
       "      <td>42</td>\n",
       "    </tr>\n",
       "    <tr>\n",
       "      <th>2041</th>\n",
       "      <td>Miraitowa and Someity</td>\n",
       "      <td>Characteristics</td>\n",
       "      <td>Miraitowa, the Olympic mascot, is a figure wit...</td>\n",
       "      <td>420</td>\n",
       "    </tr>\n",
       "    <tr>\n",
       "      <th>419</th>\n",
       "      <td>Rowing at the 2020 Summer Olympics – Men's cox...</td>\n",
       "      <td>Summary</td>\n",
       "      <td>The men's coxless four event at the 2020 Summe...</td>\n",
       "      <td>79</td>\n",
       "    </tr>\n",
       "    <tr>\n",
       "      <th>2889</th>\n",
       "      <td>Argentina at the 2020 Summer Olympics</td>\n",
       "      <td>Athletics</td>\n",
       "      <td>Argentine athletes achieved the entry standard...</td>\n",
       "      <td>48</td>\n",
       "    </tr>\n",
       "  </tbody>\n",
       "</table>\n",
       "</div>"
      ],
      "text/plain": [
       "                                                  title          heading  \\\n",
       "3784                 Serbia at the 2020 Summer Olympics     Table tennis   \n",
       "2681  Field hockey at the 2020 Summer Olympics – Wom...            Table   \n",
       "2041                              Miraitowa and Someity  Characteristics   \n",
       "419   Rowing at the 2020 Summer Olympics – Men's cox...          Summary   \n",
       "2889              Argentina at the 2020 Summer Olympics        Athletics   \n",
       "\n",
       "                                                content  tokens  \n",
       "3784  Serbia entered three athletes into the table t...      62  \n",
       "2681  ^1  – Japan qualified both as the hosts and th...      42  \n",
       "2041  Miraitowa, the Olympic mascot, is a figure wit...     420  \n",
       "419   The men's coxless four event at the 2020 Summe...      79  \n",
       "2889  Argentine athletes achieved the entry standard...      48  "
      ]
     },
     "execution_count": 20,
     "metadata": {},
     "output_type": "execute_result"
    }
   ],
   "source": [
    "# We have hosted the processed dataset, so you can download it directly without having to recreate it.\n",
    "# This dataset has already been split into sections, one row for each section of the Wikipedia page.\n",
    "\n",
    "df = pd.read_csv('https://cdn.openai.com/API/examples/data/olympics_sections_text.csv')\n",
    "print(f\"{len(df)} rows in the data.\")\n",
    "df.sample(5)"
   ]
  },
  {
   "attachments": {},
   "cell_type": "markdown",
   "id": "a17b88b9-7ea2-491e-9727-12617c74a77d",
   "metadata": {},
   "source": [
    "We preprocess the document sections by creating an embedding vector for each section. An embedding is a vector of numbers that helps us understand how semantically similar or different the texts are. The closer two embeddings are to each other, the more similar are their contents. See the [documentation on Azure OpenAI embeddings](https://learn.microsoft.com/azure/cognitive-services/openai/how-to/embeddings?tabs=python) for more information.\n",
    "\n",
    "This indexing stage can be executed offline and only runs once to precompute the indexes for the dataset so that each piece of content can be retrieved later. In this example, we use **RediSearch** to power the vector search in Azure Cache for Redis.\n",
    "\n",
    "For the purposes of this tutorial we chose to use [ada embeddings](https://learn.microsoft.com/azure/cognitive-services/openai/concepts/models#embeddings-models) for embedding creation (for both docs and queries), which are a very good price and still perform well."
   ]
  },
  {
   "cell_type": "code",
   "execution_count": 21,
   "id": "ba475f30-ef7f-431c-b60d-d5970b62ad09",
   "metadata": {},
   "outputs": [],
   "source": [
    "import time\n",
    "\n",
    "def get_embedding(text: str, model: str) -> t.List[float]:\n",
    "    \"\"\"\n",
    "    Fetch embedding given input text from OpenAI.\n",
    "\n",
    "    Args:\n",
    "        text (str): Text input for which to create embedding.\n",
    "        model (str): OpenAI model to use for embedding creation.\n",
    "\n",
    "    Returns:\n",
    "        t.List[float]: OpenAI Embedding.\n",
    "    \"\"\"\n",
    "    result = openai.Embedding.create(\n",
    "      engine=model,\n",
    "      input=text\n",
    "    )\n",
    "    return result[\"data\"][0][\"embedding\"]\n",
    "\n",
    "def get_doc_embedding(text: str) -> list[float]:\n",
    "    retries = 0\n",
    "    max_retries = 5\n",
    "\n",
    "    while retries < max_retries:\n",
    "        try:\n",
    "            result = get_embedding(text, DOC_EMBEDDINGS_MODEL)\n",
    "            break\n",
    "        except openai.error.RateLimitError as e:\n",
    "            retries += 1\n",
    "            time.sleep(12)\n",
    "\n",
    "    return result\n",
    "\n",
    "def get_query_embedding(text: str) -> t.List[float]:\n",
    "    return get_embedding(text, QUERY_EMBEDDINGS_MODEL)\n",
    "\n",
    "def compute_doc_embeddings(df: pd.DataFrame) -> t.Dict[t.Tuple[str, str], t.List[float]]:\n",
    "    \"\"\"\n",
    "    Create an embedding for each row in the dataframe using the OpenAI Embeddings API.\n",
    "\n",
    "    Return a dictionary that maps between each embedding vector and the index of the row that it corresponds to.\n",
    "    \"\"\"\n",
    "    embeddings = {}\n",
    "    for idx, row in df.iterrows():\n",
    "        embedding = get_doc_embedding(row[\"content\"].replace(\"\\n\", \"\"))\n",
    "        embeddings[idx] = embedding\n",
    "\n",
    "        if idx % 100 == 0:\n",
    "            print(f\"Processed {idx} rows of {len(df)}.\")\n",
    "    return embeddings"
   ]
  },
  {
   "attachments": {},
   "cell_type": "markdown",
   "id": "cfe9c723-f838-4c75-8ed8-286b2e491a60",
   "metadata": {},
   "source": [
    "Compute the embeddings for the document sections. This will take several minutes."
   ]
  },
  {
   "cell_type": "code",
   "execution_count": null,
   "id": "ab50bfca-cb02-41c6-b338-4400abe1d86e",
   "metadata": {},
   "outputs": [],
   "source": [
    "# computing the embeddings will take several minutes\n",
    "document_embeddings = compute_doc_embeddings(df)"
   ]
  },
  {
   "cell_type": "code",
   "execution_count": 23,
   "id": "b9a8c713-c8a9-47dc-85a4-871ee1395566",
   "metadata": {},
   "outputs": [
    {
     "name": "stdout",
     "output_type": "stream",
     "text": [
      "0 : [-0.00617007864639163, 0.01927444338798523, -0.017017723992466927, 0.05506397783756256, -0.004782708361744881]... (1024 entries)\n"
     ]
    }
   ],
   "source": [
    "# An example embedding:\n",
    "example_entry = list(document_embeddings.items())[0]\n",
    "print(f\"{example_entry[0]} : {example_entry[1][:5]}... ({len(example_entry[1])} entries)\")"
   ]
  },
  {
   "attachments": {},
   "cell_type": "markdown",
   "id": "aa32cf88-9edb-4dc6-b4cf-a16a8de7d304",
   "metadata": {
    "tags": []
   },
   "source": [
    "So we split our document library into sections, and encoded them by creating embedding vectors that represent each chunk. Next we will use these embeddings to answer our users' questions.\n",
    "\n",
    "<img align=\"right\" src=\"../images/redis.svg\" style=\"width: 5%; margin-right: 10%\">\n",
    "\n",
    "## 1.5 - Load the Embeddings into Redis\n",
    "\n",
    "[Redis Stack](https://redis.io/docs/stack/search/) is composed of a number of modules that extend Redis and its capabilities.\n",
    "\n",
    "For example, Redis Stack gives you the ability to store documents in JSON (with RedisJSON) AND build search indices over top (with RediSearch 2.6+). These popular modules are only supported on the **Enterprise Tier of Azure Cache for Redis** or the Redis Stack docker container.\n",
    "\n",
    "Follow the instructions here to [create a Redis database with Stack enabled](https://learn.microsoft.com/azure/azure-cache-for-redis/cache-redis-modules#adding-modules-to-your-cache). [RediSearch](https://redis.io/docs/stack/search/reference/vectors/) enables fast vector search, and is what we will lean on here for this example!"
   ]
  },
  {
   "attachments": {},
   "cell_type": "markdown",
   "id": "560a38fb",
   "metadata": {},
   "source": [
    "### Define some helper functions to use with Redis\n",
    "You'll need to tweak these functions if your schema changes.\n",
    "\n",
    "Redis supports both FLAT (brute force) and HNSW (approximate) vector search. In this example, we're creating a FLAT index but this can easily be changed to [HNSW](https://redis.io/docs/stack/search/reference/vectors/#hnsw) for faster search at a lower recall (accuracy) mark. See the docs at the link to discover the params that you can use to tune this capability.\n"
   ]
  },
  {
   "cell_type": "code",
   "execution_count": 24,
   "id": "a4d94424",
   "metadata": {},
   "outputs": [],
   "source": [
    "# Constants\n",
    "VECTOR_DIM = len(example_entry[1])\n",
    "NUM_VECTORS = len(document_embeddings)\n",
    "INDEX_NAME = \"embeddings-index\"\n",
    "PREFIX = \"embedding\"\n",
    "DISTANCE_METRIC = \"COSINE\" # Cosine Similarity\n",
    "\n",
    "\n",
    "# Helper Functions\n",
    "def create_index(\n",
    "    index_name: str,\n",
    "    prefix: str,\n",
    "    fields: list\n",
    "):\n",
    "    \"\"\"\n",
    "    Create the RediSearch index. Indices can be used for standard and hybrid\n",
    "    style searches combining multiple fields. See available field types:\n",
    "    https://github.com/redis/redis-py/blob/master/redis/commands/search/field.py\n",
    "\n",
    "    Args:\n",
    "        index_name (str): Name of the RediSearch index to create.\n",
    "        prefix (str): Key prefix that assumes membership to the RediSearch index.\n",
    "        fields (list): List of RediSearch fields to include in the index.\n",
    "    \"\"\"\n",
    "    # Create RediSearch Index\n",
    "    return r.ft(index_name).create_index(\n",
    "        fields = fields,\n",
    "        definition = IndexDefinition(prefix=[prefix], index_type=IndexType.HASH)\n",
    "    )\n",
    "\n",
    "def delete_index(index_name: str = INDEX_NAME, drop_docs: bool = False):\n",
    "    \"\"\"\n",
    "    Delete the RediSearch index.\n",
    "\n",
    "    Args:\n",
    "        index_name (str, optional): Name of the RediSearch index to delete. Defaults to INDEX_NAME.\n",
    "        drop_docs (bool, optional): Drop all index documents? Defaults to False.\n",
    "    \"\"\"\n",
    "    return r.ft(index_name).dropindex(delete_documents=drop_docs)\n",
    "\n",
    "def index_documents(prefix: str, embeddings_lookup: dict, documents: list):\n",
    "    \"\"\"\n",
    "    Index a list of documents in RediSearch.\n",
    "\n",
    "    Args:\n",
    "        prefix (str): RediSearch prefix on keys associated with the index.\n",
    "        embeddings_lookup (dict): Doc embedding lookup dict.\n",
    "        documents (list): List of docs to set in the index.\n",
    "    \"\"\"\n",
    "    # Iterate through documents and store in Redis\n",
    "    # NOTE: use async Redis client for even better throughput\n",
    "    pipe = r.pipeline(transaction=False)\n",
    "    for i, doc in enumerate(documents):\n",
    "        key = f\"{prefix}:{i}\"\n",
    "        embedding = embeddings_lookup[i]\n",
    "        doc[\"embedding\"] = np.array(embedding, dtype=np.float32).tobytes()\n",
    "        pipe.hset(key, mapping = doc)\n",
    "        if i % 150 == 0:\n",
    "            pipe.execute()\n",
    "    pipe.execute()\n",
    "\n",
    "def fetch_embedding(key: str) -> np.array:\n",
    "    \"\"\"\n",
    "    Fetch embedding from Redis.\n",
    "\n",
    "    Args:\n",
    "        key (str): Redis key for which to fetch the embedding.\n",
    "\n",
    "    Returns:\n",
    "        np.array: Numpy Array of the embedding associated with the key.\n",
    "    \"\"\"\n",
    "    embedding = r.hget(key, \"embedding\")\n",
    "    return np.frombuffer(embedding, dtype=np.float32)\n",
    "\n",
    "def search_redis(\n",
    "    query_vector: np.array,\n",
    "    return_fields: list = [],\n",
    "    k: int = 5,\n",
    "    index_name: str = INDEX_NAME,\n",
    "    pre_filter: str = None\n",
    ") -> t.List[dict]:\n",
    "    \"\"\"\n",
    "    Perform KNN search in Redis.\n",
    "\n",
    "    Args:\n",
    "        query_vector (np.array): Numpy array of the embedding vector to use in the search.\n",
    "        return_fields (list, optional): Fields to include in the response. Defaults to [].\n",
    "        k (int, optional): Count of nearest neighbors to return. Defaults to 5.\n",
    "        index_name (str, optional): Name of the RediSeatch index. Defaults to INDEX_NAME.\n",
    "        pre_filter (str, optional): Pre filter to constrain the KNN search with conditions. Defaults to \"*\" (all).\n",
    "\n",
    "    Returns:\n",
    "        list<dict>: List of most similar documents.\n",
    "    \"\"\"\n",
    "    def process_doc(doc) -> dict:\n",
    "        d = doc.__dict__\n",
    "        if \"vector_score\" in d:\n",
    "            d[\"vector_score\"] = 1 - float(d[\"vector_score\"])\n",
    "        return d\n",
    "    # Prepare the Query\n",
    "    if not pre_filter:\n",
    "        pre_filter = \"*\"\n",
    "    base_query = f'{pre_filter}=>[KNN {k} @embedding $vector AS vector_score]'\n",
    "    query = (\n",
    "        Query(base_query)\n",
    "         .sort_by(\"vector_score\")\n",
    "         .paging(0, k)\n",
    "         .return_fields(*return_fields)\n",
    "         .dialect(2)\n",
    "    )\n",
    "    params_dict = {\"vector\": query_vector.astype(dtype=np.float32).tobytes()}\n",
    "    # Vector Search in Redis\n",
    "    results = r.ft(index_name).search(query, params_dict)\n",
    "    return [process_doc(doc) for doc in results.docs]"
   ]
  },
  {
   "attachments": {},
   "cell_type": "markdown",
   "id": "2fe68ab9",
   "metadata": {},
   "source": [
    "### Create the index in Redis and load the data\n",
    "\n",
    "If there is not a Redis Vector Index already created, we will create one here. Then we will test loading embeddings from Redis and performing simple KNN-style searches.\n",
    "\n",
    "The [fields](https://github.com/redis/redis-py/blob/master/redis/commands/search/field.py) defined in the RediSearch schema below enable different kinds of search, including [Hybrid KNN queries](https://redis.io/docs/stack/search/reference/vectors/#hybrid-knn-queries). We will demonstrate some examples of this later on.\n",
    "\n",
    "For a more performant, but slightly more complicated version of indexing large quantities of documents, use Redis pipelines OR checkout an [async HSET implementation in this example](https://github.com/RedisVentures/redis-arXiv-search/blob/main/backend/vecsim_app/load_data.py#L19)."
   ]
  },
  {
   "cell_type": "code",
   "execution_count": 24,
   "id": "df128841",
   "metadata": {},
   "outputs": [
    {
     "name": "stdout",
     "output_type": "stream",
     "text": [
      "Index Does Not Exist\n",
      "Creating Index\n",
      "Indexing 3964 Documents\n",
      "Redis Vector Index Created!\n"
     ]
    }
   ],
   "source": [
    "# Define Schema\n",
    "title = TextField(name=\"title\")\n",
    "heading = TextField(name=\"heading\")\n",
    "content = TextField(name=\"content\")\n",
    "tokens = NumericField(name=\"tokens\")\n",
    "embedding = VectorField(\"embedding\", \n",
    "                        \"FLAT\", \n",
    "                        { \"TYPE\": \"FLOAT32\", \n",
    "                          \"DIM\": VECTOR_DIM, \n",
    "                          \"DISTANCE_METRIC\": DISTANCE_METRIC,\n",
    "                          \"INITIAL_CAP\": NUM_VECTORS\n",
    "                        })\n",
    "fields = [title, heading, content, tokens, embedding]\n",
    "\n",
    "# delete index if needed\n",
    "# delete_index()\n",
    "\n",
    "try:\n",
    "    # Check if index exists\n",
    "    r.ft(INDEX_NAME).info()\n",
    "    print(\"Index Exists\")\n",
    "except:\n",
    "    print(\"Index Does Not Exist\")\n",
    "\n",
    "    # Create index\n",
    "    print(\"Creating Index\")\n",
    "    create_index(\n",
    "        index_name = INDEX_NAME,\n",
    "        prefix = PREFIX,\n",
    "        fields = fields\n",
    "    )\n",
    "\n",
    "    # Index documents - this may take a few minutes\n",
    "    docs = df.to_dict(\"records\")\n",
    "    print(f\"Indexing {len(docs)} Documents\")\n",
    "    index_documents(\n",
    "        prefix = PREFIX,\n",
    "        embeddings_lookup = document_embeddings,\n",
    "        documents = docs\n",
    "    )\n",
    "\n",
    "    print(\"Redis Vector Index Created!\")"
   ]
  },
  {
   "cell_type": "code",
   "execution_count": 25,
   "id": "56fd34fd",
   "metadata": {},
   "outputs": [
    {
     "name": "stdout",
     "output_type": "stream",
     "text": [
      "[-0.01466752 -0.01099539  0.02891537 ... -0.03766552  0.01990292\n",
      "  0.01233834]\n",
      "Shape: (1024,)\n"
     ]
    }
   ],
   "source": [
    "# Fetch a test embedding vector\n",
    "\n",
    "# Grab a random Redis key\n",
    "key = (r.keys())[0]\n",
    "\n",
    "# Fetch the embedding vector\n",
    "test_embedding = fetch_embedding(key)\n",
    "print(test_embedding)\n",
    "print(\"Shape:\", test_embedding.shape)"
   ]
  },
  {
   "cell_type": "code",
   "execution_count": 26,
   "id": "55029997",
   "metadata": {},
   "outputs": [
    {
     "name": "stdout",
     "output_type": "stream",
     "text": [
      "Input Document\n",
      " {'id': 'embedding:930', 'payload': None, 'vector_score': 1.0000001192092896, 'title': \"Cycling at the 2020 Summer Olympics – Men's Madison\", 'content': 'A madison race is a tag team points race that involves all 16 teams competing at once. One cyclist from each team competes at a time; the two team members can swap at any time by touching (including pushing and handslinging). The distance is 200 laps (50 km). Teams score points in two ways: lapping the field and sprints. A team that gains a lap on the field earns 20 points; one that loses a lap has 20 points deducted. Every 10th lap is a sprint, with the first to finish the lap earning 5 points, second 3 points, third 2 points, and fourth 1 point. The points values are doubled for the final sprint. There is only one round of competition.'}\n",
      "\n",
      "Similar Documents\n",
      "{'id': 'embedding:917', 'payload': None, 'vector_score': 0.99694395065308, 'title': \"Cycling at the 2020 Summer Olympics – Women's Madison\", 'content': 'A madison race is a tag team points race that involves all 16 teams competing at once. One cyclist from each team competes at a time; the two team members can swap at any time by touching (including pushing and handslinging). The distance is 120 laps (30 km). Teams scores points in two ways: lapping the field and sprints. A team that gains a lap on the field earns 20 points; one that loses a lap has 20 points deducted. Every 10th lap is a sprint, with the first to finish the lap earning 5 points, second 3 points, third 2 points, and fourth 1 point. The points values are doubled for the final sprint. There is only one round of competition.'} \n",
      "\n",
      "{'id': 'embedding:934', 'payload': None, 'vector_score': 0.821208298206, 'title': \"Cycling at the 2020 Summer Olympics – Men's team sprint\", 'content': \"A men's team sprint race consists of a three-lap (750 m) race between two teams of three cyclists, starting on opposite sides of the track. Each member of the team must lead for one of the laps. The time for a team is measured to when the last cyclist finishes. Ties are broken by splits on the last lap.\\nThe tournament consists of an initial qualifying round that seeds the teams. The first round comprises head-to-head races based on seeding (1st vs. 8th, 2nd vs. 7th, etc.). The winners of those four heats advance to the medal round, with the two fastest winners competing in the gold medal final and the two slower winners facing off for bronze.\"} \n",
      "\n",
      "{'id': 'embedding:926', 'payload': None, 'vector_score': 0.789243042469, 'title': \"Cycling at the 2020 Summer Olympics – Women's team sprint\", 'content': \"The women's team sprint is competed over two-laps (500 m), with two riders for each nation. Each member of the team must lead for one of the laps. The time for a team is measured to when the first cyclist finishes. Ties are broken by splits on the last lap.\\nThe tournament consists of an initial qualifying round that seeds the teams. The first round comprises races between two teams of two cyclists, starting on opposite sides of the track. The races are based on seeding (1st vs. 8th, 2nd vs. 7th, etc.). The winners of those four heats advance to the medal round, with the two fastest winners competing in the gold medal final and the two slower winners facing off for bronze.\"} \n",
      "\n",
      "{'id': 'embedding:887', 'payload': None, 'vector_score': 0.773137390614, 'title': \"Cycling at the 2020 Summer Olympics – Women's team pursuit\", 'content': 'A team pursuit race involves two teams of four cyclists. Each team starts at opposite sides of the track. There are two ways to win: finish 16 laps (4 km) before the other team does or catch the other team. The time for each team is determined by the third cyclist to cross the finish line; the fourth cyclist does not need to finish.\\nThe tournament consists of three rounds:\\nQualifying round: Each team does a time trial for seeding. Only the top 4 teams are able to compete for the gold medal; the 5th place and lower teams can do no better than bronze.\\nFirst round: Four heats of 2 teams each. The top 4 teams are seeded against each other (1 vs. 4, 2 vs. 3) while the bottom 4 teams are seeded against each other (5 vs. 8, 6 vs. 7). The winners of the top bracket advance to the gold medal final. The other 6 teams are ranked by time and advance to finals based on those rankings.\\nFinals: Four finals, each with 2 teams. There is a gold medal final (gold and silver medals), a bronze medal final (bronze medal and 4th place), and 5th/6th and 7th/8th classification finals.'} \n",
      "\n"
     ]
    }
   ],
   "source": [
    "# Test performing a single search with our test embedding vector\n",
    "res = search_redis(\n",
    "    query_vector = test_embedding,\n",
    "    return_fields = [\"id\", \"title\", \"vector_score\", \"content\"]\n",
    ")\n",
    "\n",
    "# Print out results\n",
    "print(\"Input Document\\n\", res[0])\n",
    "print(\"\\nSimilar Documents\")\n",
    "for doc in res[1:]:\n",
    "    print(doc, \"\\n\")"
   ]
  },
  {
   "attachments": {},
   "cell_type": "markdown",
   "id": "f62f210c",
   "metadata": {},
   "source": [
    "# 2 - Question and Document Similarity using Redis\n",
    "\n",
    "At the time of question-answering, to answer the user's query we compute the query embedding of the question and use it to find the most similar document sections. This notebook has been updated to use RediSearch to do the vector similarity search."
   ]
  },
  {
   "cell_type": "code",
   "execution_count": 27,
   "id": "abe55596",
   "metadata": {},
   "outputs": [],
   "source": [
    "def find_similar_sections(query: str, n: int = 5, pre_filter: str = None):\n",
    "    # Embed query with OpenAI\n",
    "    query_embedding = get_query_embedding(query)\n",
    "    query_embedding = np.asarray(query_embedding, dtype=np.float64)\n",
    "    # Perform KNN search in Redis\n",
    "    similar_sections = search_redis(\n",
    "        query_vector = query_embedding,\n",
    "        k = n,\n",
    "        return_fields = [\"title\", \"heading\", \"content\", \"tokens\", \"vector_score\"],\n",
    "        pre_filter = pre_filter\n",
    "    )\n",
    "    return similar_sections"
   ]
  },
  {
   "attachments": {},
   "cell_type": "markdown",
   "id": "6116a45c",
   "metadata": {},
   "source": [
    "The output scores below represent the similarity between the query and the document. The higher the score, the more similar the document is to the query."
   ]
  },
  {
   "cell_type": "code",
   "execution_count": 28,
   "id": "dcd680e9-f194-4180-b14f-fc357498eb92",
   "metadata": {},
   "outputs": [
    {
     "data": {
      "text/plain": [
       "[{'id': 'embedding:236',\n",
       "  'payload': None,\n",
       "  'vector_score': 0.398154139519,\n",
       "  'title': \"Athletics at the 2020 Summer Olympics – Men's high jump\",\n",
       "  'heading': 'Summary',\n",
       "  'content': 'The men\\'s high jump event at the 2020 Summer Olympics took place between 30 July and 1 August 2021 at the Olympic Stadium. 33 athletes from 24 nations competed; the total possible number depended on how many nations would use universality places to enter athletes in addition to the 32 qualifying through mark or ranking (no universality places were used in 2021). Italian athlete Gianmarco Tamberi along with Qatari athlete Mutaz Essa Barshim emerged as joint winners of the event following a tie between both of them as they cleared 2.37m. Both Tamberi and Barshim agreed to share the gold medal in a rare instance where the athletes of different nations had agreed to share the same medal in the history of Olympics. Barshim in particular was heard to ask a competition official \"Can we have two golds?\" in response to being offered a \\'jump off\\'. Maksim Nedasekau of Belarus took bronze. The medals were the first ever in the men\\'s high jump for Italy and Belarus, the first gold in the men\\'s high jump for Italy and Qatar, and the third consecutive medal in the men\\'s high jump for Qatar (all by Barshim). Barshim became only the second man to earn three medals in high jump, joining Patrik Sjöberg of Sweden (1984 to 1992).',\n",
       "  'tokens': '275'},\n",
       " {'id': 'embedding:238',\n",
       "  'payload': None,\n",
       "  'vector_score': 0.38012456893900004,\n",
       "  'title': \"Athletics at the 2020 Summer Olympics – Men's high jump\",\n",
       "  'heading': 'Qualification',\n",
       "  'content': 'A National Olympic Committee (NOC) could enter up to 3 qualified athletes in the men\\'s high jump event if all athletes meet the entry standard or qualify by ranking during the qualifying period. (The limit of 3 has been in place since the 1930 Olympic Congress.) The qualifying standard is 2.33 metres. This standard was \"set for the sole purpose of qualifying athletes with exceptional performances unable to qualify through the IAAF World Rankings pathway.\" The world rankings, based on the average of the best five results for the athlete over the qualifying period and weighted by the importance of the meet, will then be used to qualify athletes until the cap of 32 is reached.The qualifying period was originally from 1 May 2019 to 29 June 2020. Due to the COVID-19 pandemic, the period was suspended from 6 April 2020 to 30 November 2020, with the end date extended to 29 June 2021. The world rankings period start date was also changed from 1 May 2019 to 30 June 2020; athletes who had met the qualifying standard during that time were still qualified, but those using world rankings would not be able to count performances during that time. The qualifying  standards could be obtained in various meetings during the given period that have the approval of the IAAF. Both outdoor and indoor meets are eligible. The most recent Area Championships may be counted in the ranking, even if not during the qualifying period.NOCs can also use their universality place—each NOC can enter one male athlete regardless of mark if they had no male athletes meeting the entry standard for an athletics event—in the high jump, but no such place was awarded in this event.On 29 June 2021, 16 high jumpers qualified with entry standard and 16 by ranking position.\\nEntry number: 32. Entry standard – 2.33 m:\\nEntry number (target): 32. One athlete from Belarus was lately added, post qualification period.\\n\\nThis qualification list doesn\\'t include Danil Lysenko (former ANA), 2.40 m in 2018, but since under a 6-year ban by Court of Arbitration for Sport for doping. However the list includes all the 7 jumpers with more than the 2.33 m Entry Standard since 2019:\\n\\nThis list includes also all the main last major championships winners since 2018: Barshim (WCh Doha 2019), Przybylko (ECh Berlin 2018), Ferreira (SACh Guayaquil 2021), Ghazal (AsCh Doha 2019), Sawe (AfCh Asaba 2018), Kerr (OCh Townsville 2019), Starc (Commonwealth Games 2018), Zayas (Pan American Games 2019) and Harrison and Lovett, the US and Canadian Olympic Trials\\' winners.\\nThe main non-qualifiers are all with marks below the entry standard of 2.33 m, but:\\n\\nTrey Culver (USA), qualified by Entry Standard, 2.33 m at Ocean Breeze Athl. Complex, New York (USA) – on 13 February 2021 but not in the first 3 at the US Olympic Trials.There are 6 jumpers with more than 2.30 m in 2021, not qualified by ranking:\\n\\nAndrei Churyla (BLR) 2.31\\nErik Kynard and Jeron Robinson (USA) 2.30\\nUshan Thiwanka (SRI) 2.30\\nWang Zhen (CHN) 2.30\\nFabian Delryd (SWE) 2.30.The Belgian Thomas Carmoy is the first non-qualifier as the next best by World Rankings\\t(31st – 1214p).\\nFrom the 45 qualified jumpers of the last 2016 Summer Olympics, only 13 will also compete in Tokyo, 5 years later.',\n",
       "  'tokens': '774'},\n",
       " {'id': 'embedding:263',\n",
       "  'payload': None,\n",
       "  'vector_score': 0.3764731884,\n",
       "  'title': \"Athletics at the 2020 Summer Olympics – Women's high jump\",\n",
       "  'heading': 'Qualification',\n",
       "  'content': 'A National Olympic Committee (NOC) could enter up to three qualified athletes in the women\\'s high jump event if all athletes meet the entry standard or qualify by ranking during the qualifying period; this limit of three has been in place since the 1930 Olympic Congress. The qualifying standard was 1.96 metres. This standard was \"set for the sole purpose of qualifying athletes with exceptional performances unable to qualify through the IAAF World Rankings pathway.\" The world rankings, based on the average of the best five results for the athlete over the qualifying period and weighted by the importance of the meet, was then used to qualify athletes until the cap of 32 was reached.The qualifying period was originally from 1 May 2019 to 29 June 2020. Due to the COVID-19 pandemic, the period was suspended from 6 April 2020 to 30 November 2020, with the end date extended to 29 June 2021; athletes who had met the qualifying standard during the suspension time were still qualified, but those using world rankings would not be able to count performances during that time. The qualifying height standards could be obtained in various meets during the given period that had the approval of World Athletics. Both outdoor and indoor meets were eligible. The most recent Area Championships could be counted in the ranking, even if they did not take place during the qualifying period.NOCs could also use their universality place — each NOC can enter one female athlete regardless of marks if they had no female athletes meeting the entry standard for an athletics event — in the high jump.',\n",
       "  'tokens': '307'},\n",
       " {'id': 'embedding:237',\n",
       "  'payload': None,\n",
       "  'vector_score': 0.37588357925399996,\n",
       "  'title': \"Athletics at the 2020 Summer Olympics – Men's high jump\",\n",
       "  'heading': 'Background',\n",
       "  'content': 'This was the 29th appearance of the event – one of 12 athletics events to have been held at every Summer Olympics.\\nNo nations made their men\\'s high jump debut, though Russian athletes competed as \"ROC\" for the first time. The United States made its 28th appearance, most of any nation, having missed only the boycotted 1980 Games.',\n",
       "  'tokens': '76'},\n",
       " {'id': 'embedding:262',\n",
       "  'payload': None,\n",
       "  'vector_score': 0.375738859177,\n",
       "  'title': \"Athletics at the 2020 Summer Olympics – Women's high jump\",\n",
       "  'heading': 'Summary',\n",
       "  'content': \"The women's high jump event at the 2020 Summer Olympics took place on 5 and 7 August 2021 at the Japan National Stadium. Even though 32 athletes qualified through the qualification system for the Games, only 31 took part in the competition. This was the 22nd appearance of the event, having appeared at every Olympics since women's athletics was introduced in 1928.\",\n",
       "  'tokens': '74'}]"
      ]
     },
     "execution_count": 28,
     "metadata": {},
     "output_type": "execute_result"
    }
   ],
   "source": [
    "query = \"Who won the high jump?\"\n",
    "\n",
    "find_similar_sections(query)"
   ]
  },
  {
   "attachments": {},
   "cell_type": "markdown",
   "id": "a0efa0f6-4469-457a-89a4-a2f5736a01e0",
   "metadata": {},
   "source": [
    "# 3 - Add the most relevant document sections to the query prompt\n",
    "\n",
    "Once we've calculated the most relevant pieces of context, we construct a prompt by simply prepending them to the supplied query. It is helpful to use a query separator to help the model distinguish between separate pieces of text."
   ]
  },
  {
   "cell_type": "code",
   "execution_count": 29,
   "id": "b763ace2-1946-48e0-8ff1-91ba335d47a0",
   "metadata": {},
   "outputs": [
    {
     "name": "stdout",
     "output_type": "stream",
     "text": [
      "Context separator contains 3 tokens\n"
     ]
    }
   ],
   "source": [
    "MAX_SECTION_LEN = 500\n",
    "SEPARATOR = \"\\n* \"\n",
    "\n",
    "tokenizer = GPT2TokenizerFast.from_pretrained(\"gpt2\")\n",
    "SEPARATOR_LEN = len(tokenizer.tokenize(SEPARATOR))\n",
    "\n",
    "print(f\"Context separator contains {SEPARATOR_LEN} tokens\")"
   ]
  },
  {
   "cell_type": "code",
   "execution_count": 30,
   "id": "0c5c0509-eeb9-4552-a5d4-6ace04ef73dd",
   "metadata": {},
   "outputs": [],
   "source": [
    "PROMPT_HEADER = \"\"\"Answer the question as truthfully as possible using the provided context, and if the answer is not contained within the text below, say \"I don't know.\"\\n\\nContext:\\n\"\"\"\n",
    "\n",
    "def construct_prompt(question: str, pre_filter: str = None) -> str:\n",
    "    \"\"\"\n",
    "    Construct full prompt based on the input question using\n",
    "    the document sections indexed in Redis.\n",
    "\n",
    "    Args:\n",
    "        question (str): User input question.\n",
    "        pre_filter (str, optional): Pre filter to constrain the KNN search with conditions.\n",
    "\n",
    "    Returns:\n",
    "        str: Full prompt string to pass along to a generative language model.\n",
    "    \"\"\"\n",
    "    chosen_sections = []\n",
    "    chosen_sections_len = 0\n",
    "    chosen_sections_indexes = []\n",
    "\n",
    "    # Search for relevant document sections based on the question\n",
    "    most_relevant_document_sections = find_similar_sections(\n",
    "        question,\n",
    "        n = 5,\n",
    "        pre_filter = pre_filter\n",
    "    )\n",
    "\n",
    "    # Iterate through results\n",
    "    for document_section in most_relevant_document_sections:\n",
    "        # Add contexts until we run out of token space\n",
    "        chosen_sections_len += int(document_section['tokens']) + SEPARATOR_LEN\n",
    "        if chosen_sections_len > MAX_SECTION_LEN:\n",
    "            break\n",
    "\n",
    "        chosen_sections.append(SEPARATOR + document_section['content'].replace(\"\\n\", \" \"))\n",
    "        chosen_sections_indexes.append(document_section['id'])\n",
    "\n",
    "    # Useful diagnostic information\n",
    "    print(f\"Selected {len(chosen_sections)} document sections:\")\n",
    "    print(\"\\n\".join(chosen_sections_indexes))\n",
    "\n",
    "    return PROMPT_HEADER + \"\".join(chosen_sections) + \"\\n\\n Q: \" + question + \"\\n A:\""
   ]
  },
  {
   "cell_type": "code",
   "execution_count": 31,
   "id": "f614045a-3917-4b28-9643-7e0c299ec1a7",
   "metadata": {},
   "outputs": [
    {
     "name": "stdout",
     "output_type": "stream",
     "text": [
      "Selected 2 document sections:\n",
      "embedding:236\n",
      "embedding:284\n",
      "===\n",
      " Answer the question as truthfully as possible using the provided context, and if the answer is not contained within the text below, say \"I don't know.\"\n",
      "\n",
      "Context:\n",
      "\n",
      "* The men's high jump event at the 2020 Summer Olympics took place between 30 July and 1 August 2021 at the Olympic Stadium. 33 athletes from 24 nations competed; the total possible number depended on how many nations would use universality places to enter athletes in addition to the 32 qualifying through mark or ranking (no universality places were used in 2021). Italian athlete Gianmarco Tamberi along with Qatari athlete Mutaz Essa Barshim emerged as joint winners of the event following a tie between both of them as they cleared 2.37m. Both Tamberi and Barshim agreed to share the gold medal in a rare instance where the athletes of different nations had agreed to share the same medal in the history of Olympics. Barshim in particular was heard to ask a competition official \"Can we have two golds?\" in response to being offered a 'jump off'. Maksim Nedasekau of Belarus took bronze. The medals were the first ever in the men's high jump for Italy and Belarus, the first gold in the men's high jump for Italy and Qatar, and the third consecutive medal in the men's high jump for Qatar (all by Barshim). Barshim became only the second man to earn three medals in high jump, joining Patrik Sjöberg of Sweden (1984 to 1992).\n",
      "* The men's pole vault event at the 2020 Summer Olympics took place between 31 July and 3 August 2021 at the Japan National Stadium. 29 athletes from 18 nations competed. Armand Duplantis of Sweden won gold, with Christopher Nilsen of the United States earning silver and Thiago Braz of Brazil taking bronze. It was Sweden's first victory in the event and first medal of any color in the men's pole vault since 1952. Braz, who had won in 2016, became the ninth man to earn multiple medals in the pole vault.\n",
      "\n",
      " Q: Who won the men's high jump?\n",
      " A:\n"
     ]
    }
   ],
   "source": [
    "# Test an example\n",
    "prompt = construct_prompt(\"Who won the men's high jump?\")\n",
    "\n",
    "print(\"===\\n\", prompt)"
   ]
  },
  {
   "attachments": {},
   "cell_type": "markdown",
   "id": "1b022fd4-0a3c-4ae1-bed1-4c80e4f0fb56",
   "metadata": {
    "tags": []
   },
   "source": [
    "We have now obtained the document sections that are most relevant to the question. As a final step, let's put it all together to get an answer to the question.\n",
    "\n",
    "# 4 - Answer the question based on the context\n",
    "\n",
    "Now that we've retrieved the relevant context and constructed our prompt, we can finally use the Completions API to answer the user's query."
   ]
  },
  {
   "cell_type": "code",
   "execution_count": 32,
   "id": "b0edfec7-9243-4573-92e0-253d31c771ad",
   "metadata": {},
   "outputs": [],
   "source": [
    "COMPLETIONS_API_PARAMS = {\n",
    "    # We use temperature of 0.0 because it gives the most predictable, factual answer.\n",
    "    \"temperature\": 0.0,\n",
    "    \"max_tokens\": 300,\n",
    "    \"engine\": COMPLETIONS_MODEL,\n",
    "}"
   ]
  },
  {
   "cell_type": "code",
   "execution_count": 33,
   "id": "9c1c9a69-848e-4099-a90d-c8da36c153d5",
   "metadata": {},
   "outputs": [],
   "source": [
    "def answer_question_with_context(\n",
    "    question: str,\n",
    "    show_prompt: bool = False,\n",
    "    pre_filter: str = None\n",
    ") -> str:\n",
    "    \"\"\"\n",
    "    Answer the question.\n",
    "\n",
    "    Args:\n",
    "        query (str): User input question.\n",
    "        show_prompt (bool, optional): Print out the prompt or not. Defaults to False.\n",
    "        pre_filter (str, optional): Pre filter to constrain the KNN search with conditions.\n",
    "\n",
    "    Returns:\n",
    "        str: Response to the question.\n",
    "    \"\"\"\n",
    "    # Construct prompt with Redis Vector Search\n",
    "    prompt = construct_prompt(question, pre_filter=pre_filter)\n",
    "\n",
    "    if show_prompt:\n",
    "        print(prompt)\n",
    "\n",
    "    response = openai.Completion.create(\n",
    "        prompt=prompt,\n",
    "        **COMPLETIONS_API_PARAMS\n",
    "    )\n",
    "\n",
    "    return response[\"choices\"][0][\"text\"].strip(\" \\n\")"
   ]
  },
  {
   "cell_type": "code",
   "execution_count": 34,
   "id": "c233e449-bf33-4c9e-b095-6a4dd278c8fd",
   "metadata": {},
   "outputs": [
    {
     "name": "stdout",
     "output_type": "stream",
     "text": [
      "Selected 2 document sections:\n",
      "embedding:236\n",
      "embedding:222\n"
     ]
    },
    {
     "data": {
      "text/plain": [
       "'Gianmarco Tamberi and Mutaz Essa Barshim emerged as joint winners of the event.'"
      ]
     },
     "execution_count": 34,
     "metadata": {},
     "output_type": "execute_result"
    }
   ],
   "source": [
    "answer_question_with_context(\"Who won the 2020 Summer Olympics men's high jump?\")"
   ]
  },
  {
   "attachments": {},
   "cell_type": "markdown",
   "id": "0282e5c9",
   "metadata": {},
   "source": [
    "# 5 - Expanding capability with hybrid search\n",
    "\n",
    "Hybrid search allows you to combine additional pre-filters to the vector similarity search (KNN) operation. This is useful if you have additional business specs or constraints that need to be imposed in the search.\n",
    "\n",
    "For example, you could search for relevant documents that were published within a specific calendar Year or for documents that have a particular word in the title. The flexibility here is by design and extends the KNN operation to be more optimal for different use cases.\n",
    "\n",
    "Here's an example below where we filter for context documents with `Women` explicitly in the title."
   ]
  },
  {
   "cell_type": "code",
   "execution_count": 35,
   "id": "6e6b9ed3",
   "metadata": {},
   "outputs": [
    {
     "name": "stdout",
     "output_type": "stream",
     "text": [
      "Selected 5 document sections:\n",
      "embedding:276\n",
      "embedding:338\n",
      "embedding:300\n",
      "embedding:254\n",
      "embedding:281\n",
      "Answer the question as truthfully as possible using the provided context, and if the answer is not contained within the text below, say \"I don't know.\"\n",
      "\n",
      "Context:\n",
      "\n",
      "* The women's long jump event at the 2020 Summer Olympics took place on 1 and 3 August 2021 at the Japan National Stadium. 30 athletes from 23 nations competed. Germany's 2019 world champion Malaika Mihambo moved up from third  to first with her final round jump of 7.00 metres, to win the gold medal. 2012 Olympic champion Brittney Reese of the USA won the silver and Nigeria's Ese Brume the bronze.\n",
      "* The women's triple jump event at the 2020 Summer Olympics took place between 30 July and 1 August 2021 at the Japan National Stadium.The event was won by Yulimar Rojas of Venezuela: Her winning jump of 15.67 meters also broke the 26-year-old world record.\n",
      "* The women's 400 metres event at the 2020 Summer Olympics took place from 3 to 6 August 2021 at the Japan National Stadium. 45 athletes from 34 nations competed. Shaunae Miller-Uibo won the gold medal in a personal best of 48.36 secs, a time which ranks her sixth on the world all-time list. In successfully defending her title, Miller-Uibo joined Marie-Jose Perec as the only women to win two Olympic 400 metres titles.\n",
      "* The women's 800 metres event at the 2020 Summer Olympics took place from 30 July to 3 August 2021 at the Japan National Stadium. 46 athletes from 29 nations competed. 19-year-old Athing Mu of the United States won the gold medal. The silver medal went to Keely Hodgkinson of Great Britain, and the bronze medal went to Mu's American teammate Raevyn Rogers.\n",
      "* The women's pole vault event at the 2020 Summer Olympics took place on 2 and 5 August 2021 at the Japan National Stadium. 31 athletes from 19 nations competed. In her first Olympics, 30-year-old American Katie Nageotte won the gold medal with a clearance of 4.90 metres. The silver medal went to Russian world champion Anzhelika Sidorova and the bronze to Holly Bradshaw of Great Britain.\n",
      "\n",
      " Q: Who won the long jump at the 2020 Summer Olympics?\n",
      " A:\n"
     ]
    },
    {
     "data": {
      "text/plain": [
       "\"Germany's Malaika Mihambo won the long jump at the 2020 Summer Olympics.\""
      ]
     },
     "execution_count": 35,
     "metadata": {},
     "output_type": "execute_result"
    }
   ],
   "source": [
    "pre_filter = \"@title:Women\"\n",
    "\n",
    "answer_question_with_context(\"Who won the long jump at the 2020 Summer Olympics?\", pre_filter=pre_filter, show_prompt=True)"
   ]
  },
  {
   "attachments": {},
   "cell_type": "markdown",
   "id": "7b48d155-d2d4-447c-ab8e-5a5b4722b07c",
   "metadata": {},
   "source": [
    "## Conclusion\n",
    "By combining the Embeddings and Completions APIs, we have created a question-answering model which can answer questions using a large base of additional knowledge stored in Redis. It also understands when it doesn't know the answer!\n",
    "\n",
    "For this example we used a dataset of Wikipedia articles, but that dataset could be replaced with books, articles, documentation, service manuals, or much much more. **We can't wait to see what you create with GPT-3 models!**\n",
    "\n",
    "# More Examples\n",
    "\n",
    "Let's have some fun and try some more examples."
   ]
  },
  {
   "cell_type": "code",
   "execution_count": 36,
   "id": "1127867b-2884-44bb-9439-0e8ae171c835",
   "metadata": {},
   "outputs": [
    {
     "name": "stdout",
     "output_type": "stream",
     "text": [
      "Selected 1 document sections:\n",
      "embedding:1500\n",
      "\n",
      "Q: Why was the 2020 Summer Olympics originally postponed?\n",
      "A: The 2020 Summer Olympics were originally postponed due to the COVID-19 pandemic.\n"
     ]
    }
   ],
   "source": [
    "query = \"Why was the 2020 Summer Olympics originally postponed?\"\n",
    "answer = answer_question_with_context(query)\n",
    "\n",
    "print(f\"\\nQ: {query}\\nA: {answer}\")"
   ]
  },
  {
   "cell_type": "code",
   "execution_count": 37,
   "id": "720d9e0b-b189-4101-91ee-babf736199e6",
   "metadata": {},
   "outputs": [
    {
     "name": "stdout",
     "output_type": "stream",
     "text": [
      "Selected 2 document sections:\n",
      "embedding:1722\n",
      "embedding:254\n",
      "\n",
      "Q: In the 2020 Summer Olympics, how many gold medals did the country which won the most medals win?\n",
      "A: The United States won the most gold medals in the 2020 Summer Olympics, with 46.\n"
     ]
    }
   ],
   "source": [
    "query = \"In the 2020 Summer Olympics, how many gold medals did the country which won the most medals win?\"\n",
    "answer = answer_question_with_context(query)\n",
    "\n",
    "print(f\"\\nQ: {query}\\nA: {answer}\")"
   ]
  },
  {
   "cell_type": "code",
   "execution_count": 38,
   "id": "4e8e51cc-e4eb-4557-9e09-2929d4df5b7f",
   "metadata": {},
   "outputs": [
    {
     "name": "stdout",
     "output_type": "stream",
     "text": [
      "Selected 2 document sections:\n",
      "embedding:242\n",
      "embedding:240\n",
      "\n",
      "Q: What was unusual about the men’s shotput competition?\n",
      "A: For the first time in Olympic history, the same three competitors received the same medals in back-to-back editions of an the same individual event.\n"
     ]
    }
   ],
   "source": [
    "query = \"What was unusual about the men’s shotput competition?\"\n",
    "answer = answer_question_with_context(query)\n",
    "\n",
    "print(f\"\\nQ: {query}\\nA: {answer}\")"
   ]
  },
  {
   "cell_type": "code",
   "execution_count": 39,
   "id": "37c83519-e3c6-4c44-8b4a-98cbb3a5f5ba",
   "metadata": {},
   "outputs": [
    {
     "name": "stdout",
     "output_type": "stream",
     "text": [
      "Selected 3 document sections:\n",
      "embedding:1876\n",
      "embedding:1178\n",
      "embedding:1908\n",
      "\n",
      "Q: In the 2020 Summer Olympics, how many silver medals did Italy win?\n",
      "A: 10 silver medals.\n"
     ]
    }
   ],
   "source": [
    "query = \"In the 2020 Summer Olympics, how many silver medals did Italy win?\"\n",
    "answer = answer_question_with_context(query)\n",
    "\n",
    "print(f\"\\nQ: {query}\\nA: {answer}\")"
   ]
  },
  {
   "cell_type": "markdown",
   "id": "177c945e-f5c4-4fa5-8331-44f328b25e44",
   "metadata": {},
   "source": [
    "Our Q&A model is less prone to hallucinating answers, and has a better sense of what it does or doesn't know. This works when the information isn't contained in the context; when the question is nonsensical; or when the question is theoretically answerable but beyond GPT-3's powers!"
   ]
  },
  {
   "cell_type": "code",
   "execution_count": 40,
   "id": "26a1a9ef-e1ee-4f80-a1b1-6164ccfa5bac",
   "metadata": {},
   "outputs": [
    {
     "name": "stdout",
     "output_type": "stream",
     "text": [
      "Selected 4 document sections:\n",
      "embedding:3047\n",
      "embedding:2686\n",
      "embedding:3846\n",
      "embedding:3318\n",
      "\n",
      "Q: What is the total number of medals won by France, multiplied by the number of Taekwondo medals given out to all countries?\n",
      "A: I don't know.\n"
     ]
    }
   ],
   "source": [
    "query = \"What is the total number of medals won by France, multiplied by the number of Taekwondo medals given out to all countries?\"\n",
    "answer = answer_question_with_context(query)\n",
    "\n",
    "print(f\"\\nQ: {query}\\nA: {answer}\")"
   ]
  },
  {
   "cell_type": "code",
   "execution_count": 41,
   "id": "9fba8a63-eb81-4661-ae17-59bb5e2933d6",
   "metadata": {},
   "outputs": [
    {
     "name": "stdout",
     "output_type": "stream",
     "text": [
      "Selected 5 document sections:\n",
      "embedding:512\n",
      "embedding:2653\n",
      "embedding:3855\n",
      "embedding:2483\n",
      "embedding:1979\n",
      "\n",
      "Q: What is the tallest mountain in the world?\n",
      "A: I don't know.\n"
     ]
    }
   ],
   "source": [
    "query = \"What is the tallest mountain in the world?\"\n",
    "answer = answer_question_with_context(query)\n",
    "\n",
    "print(f\"\\nQ: {query}\\nA: {answer}\")"
   ]
  },
  {
   "cell_type": "code",
   "execution_count": 42,
   "id": "2d4c693b-cdb9-4f4c-bd1b-f77b29097a1f",
   "metadata": {},
   "outputs": [
    {
     "name": "stdout",
     "output_type": "stream",
     "text": [
      "Selected 4 document sections:\n",
      "embedding:462\n",
      "embedding:1421\n",
      "embedding:451\n",
      "embedding:603\n",
      "\n",
      "Q: Who won the grimblesplatch competition at the 2020 Summer Olympic games?\n",
      "A: I don't know.\n"
     ]
    }
   ],
   "source": [
    "query = \"Who won the grimblesplatch competition at the 2020 Summer Olympic games?\"\n",
    "answer = answer_question_with_context(query)\n",
    "\n",
    "print(f\"\\nQ: {query}\\nA: {answer}\")"
   ]
  }
 ],
 "metadata": {
  "kernelspec": {
   "display_name": "base",
   "language": "python",
   "name": "python3"
  },
  "language_info": {
   "codemirror_mode": {
    "name": "ipython",
    "version": 3
   },
   "file_extension": ".py",
   "mimetype": "text/x-python",
   "name": "python",
   "nbconvert_exporter": "python",
   "pygments_lexer": "ipython3",
   "version": "3.9.7"
  },
  "vscode": {
   "interpreter": {
    "hash": "fc180f703c9255d3d630e6d09ed4eb3355d27845db546035ce1b410f2bfa43b7"
   }
  }
 },
 "nbformat": 4,
 "nbformat_minor": 5
}
