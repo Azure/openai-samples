{
 "cells": [
  {
   "attachments": {},
   "cell_type": "markdown",
   "metadata": {},
   "source": [
    "# Test the Azure Function"
   ]
  },
  {
   "cell_type": "code",
   "execution_count": 1,
   "metadata": {},
   "outputs": [
    {
     "name": "stdout",
     "output_type": "stream",
     "text": [
      "Status: 200\n"
     ]
    },
    {
     "data": {
      "text/plain": [
       "{'nearest_neighbors': [90, 70, 86, 85, 87],\n",
       " 'text': ['The welterweight starts with the round of 32 on 24 July. There are two rest days before the round of 16 on 27 July, two more before the quarterfinals on 30 July, four more before the semifinals on 4 August, and two more before the final on 7 August.',\n",
       "  \"The featherweight starts with the round of 32 on 24 July. There is a single rest day before the round of 16 on 26 July, one more before the quarterfinals on 28 July, two more before the semifinals on 31 July, and two more before the final on 3 August. The women's featherweight will be the first boxing final in 2020.\",\n",
       "  \"The women's welterweight boxing event at the 2020 Summer Olympics took place between 24 July and 7 August 2021 at the Ryōgoku Kokugikan. 18 boxers from 18 nations were in competition.\",\n",
       "  'The middleweight starts with the round of 16 on 28 July. There are two rest days before the quarterfinals on 31 July, five more before the semifinals on 6 August, and one more before the final on 8 August.',\n",
       "  \"This marked the debut appearance of the women's welterweight event. The previous women's tournaments in 2012 and 2016 skipped directly from lightweight (57–60 kg) to middleweight (69–75 kg). Welterweight fills some of that gap, at 64–69 kg.\\nReigning welterweight World Champion Busenaz Sürmeneli of Turkey became the eventual gold medal winner.\"]}"
      ]
     },
     "execution_count": 1,
     "metadata": {},
     "output_type": "execute_result"
    }
   ],
   "source": [
    "import requests\n",
    "import json\n",
    "\n",
    "url = \"http://localhost:7071/api/QueryEmbeddings\"\n",
    "\n",
    "# uncomment the section below to test the deployed version\n",
    "# function_resource_name = \"\"\n",
    "# code = \"\"\n",
    "# url = \"https://{}.azurewebsites.net/api/QueryEmbeddings?code={}\".format(function_resource_name, code)\n",
    "\n",
    "body = {\n",
    "  \"text\": \"welterweight boxing\",\n",
    "  \"n\": 5,\n",
    "  \"force_reload\": False  \n",
    "}\n",
    "\n",
    "response = requests.post(url, json.dumps(body))\n",
    "print(\"Status: {}\".format(response.status_code))\n",
    "\n",
    "response.json()"
   ]
  }
 ],
 "metadata": {
  "kernelspec": {
   "display_name": "base",
   "language": "python",
   "name": "python3"
  },
  "language_info": {
   "codemirror_mode": {
    "name": "ipython",
    "version": 3
   },
   "file_extension": ".py",
   "mimetype": "text/x-python",
   "name": "python",
   "nbconvert_exporter": "python",
   "pygments_lexer": "ipython3",
   "version": "3.9.7"
  },
  "orig_nbformat": 4,
  "vscode": {
   "interpreter": {
    "hash": "fc180f703c9255d3d630e6d09ed4eb3355d27845db546035ce1b410f2bfa43b7"
   }
  }
 },
 "nbformat": 4,
 "nbformat_minor": 2
}
