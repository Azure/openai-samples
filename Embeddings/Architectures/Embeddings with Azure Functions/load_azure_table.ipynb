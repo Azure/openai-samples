{
 "cells": [
  {
   "attachments": {},
   "cell_type": "markdown",
   "metadata": {},
   "source": [
    "# Load data into an Azure Table\n",
    "\n",
    "This notebook creates embeddings from the sample data and loads the text and embeddings into an Azure Table. The dataset is a collection of wikipedia articles about the 2020 Summer Olympics that comes from the [OpenAI Cookbook repo](https://github.com/openai/openai-cookbook)."
   ]
  },
  {
   "cell_type": "code",
   "execution_count": 1,
   "metadata": {},
   "outputs": [],
   "source": [
    "from azure.data.tables import TableServiceClient\n",
    "import numpy as np\n",
    "from azure.core.credentials import AzureNamedKeyCredential\n",
    "import json\n",
    "import pandas as pd\n",
    "import os\n",
    "import time\n",
    "import openai\n",
    "\n",
    "# See the notebook below for details on how the data was gathered\n",
    "# https://github.com/openai/openai-cookbook/blob/main/examples/fine-tuned_qa/olympics-1-collect-data.ipynb\n",
    "data_path = 'https://cdn.openai.com/API/examples/data/olympics_sections_text.csv'"
   ]
  },
  {
   "attachments": {},
   "cell_type": "markdown",
   "metadata": {},
   "source": [
    "## 1.0 Setup\n",
    "\n",
    "To run through this notebook, you'll need to have an [Azure OpenAI Service](https://learn.microsoft.com/azure/cognitive-services/openai/how-to/create-resource?pivots=web-portal) resource and an [Azure Table Storage](https://learn.microsoft.com/azure/storage/common/storage-account-create?tabs=azure-portal) resource. \n",
    "\n",
    "### 1.1 Make sure the following environmant variables are set"
   ]
  },
  {
   "cell_type": "code",
   "execution_count": 2,
   "metadata": {},
   "outputs": [],
   "source": [
    "#os.environ['OPENAI_API_KEY'] = '<your Azure OpenAI API key>'\n",
    "#os.environ['OPENAI_RESOURCE_ENDPOINT'] = '<your Azure OpenAI resource endpoint>'\n",
    "\n",
    "#os.environ['AZURE_TABLE_KEY'] = '<your Azure Table Storage key>'\n",
    "#os.environ['AZURE_TABLE_ACCOUNT_NAME'] = '<your Azure Table Storage account name>'"
   ]
  },
  {
   "attachments": {},
   "cell_type": "markdown",
   "metadata": {},
   "source": [
    "### 1.2 Update setting for your Azure OpenAI Service resource"
   ]
  },
  {
   "cell_type": "code",
   "execution_count": 3,
   "metadata": {},
   "outputs": [],
   "source": [
    "OPENAI_API_KEY = os.getenv(\"OPENAI_API_KEY\") \n",
    "OPENAI_RESOURCE_ENDPOINT = os.getenv(\"OPENAI_RESOURCE_ENDPOINT\") \n",
    "\n",
    "openai.api_type = \"azure\"\n",
    "openai.api_key = OPENAI_API_KEY\n",
    "openai.api_base = OPENAI_RESOURCE_ENDPOINT\n",
    "openai.api_version = \"2022-12-01\"\n",
    "\n",
    "TEXT_SEARCH_EMBEDDING_ENGINE = 'text-search-ada-doc-001'"
   ]
  },
  {
   "attachments": {},
   "cell_type": "markdown",
   "metadata": {},
   "source": [
    "### 1.3 Create a client for Azure Table Storage"
   ]
  },
  {
   "cell_type": "code",
   "execution_count": 4,
   "metadata": {},
   "outputs": [],
   "source": [
    "# load key from environement variable\n",
    "AZURE_TABLE_KEY = os.getenv(\"AZURE_TABLE_KEY\")\n",
    "TABLE_ACCOUNT_NAME = os.getenv(\"AZURE_TABLE_ACCOUNT_NAME\")\n",
    "TABLE_NAME = \"embeddings\"\n",
    "\n",
    "credential = AzureNamedKeyCredential(TABLE_ACCOUNT_NAME, AZURE_TABLE_KEY)\n",
    "table_service_client = TableServiceClient(endpoint=\"https://{}.table.core.windows.net/\".format(TABLE_ACCOUNT_NAME), credential=credential)"
   ]
  },
  {
   "attachments": {},
   "cell_type": "markdown",
   "metadata": {},
   "source": [
    "## 2.0 Load data into a dataframe"
   ]
  },
  {
   "cell_type": "code",
   "execution_count": 5,
   "metadata": {},
   "outputs": [
    {
     "name": "stdout",
     "output_type": "stream",
     "text": [
      "Number of documents: 3964\n"
     ]
    },
    {
     "data": {
      "text/html": [
       "<div>\n",
       "<style scoped>\n",
       "    .dataframe tbody tr th:only-of-type {\n",
       "        vertical-align: middle;\n",
       "    }\n",
       "\n",
       "    .dataframe tbody tr th {\n",
       "        vertical-align: top;\n",
       "    }\n",
       "\n",
       "    .dataframe thead th {\n",
       "        text-align: right;\n",
       "    }\n",
       "</style>\n",
       "<table border=\"1\" class=\"dataframe\">\n",
       "  <thead>\n",
       "    <tr style=\"text-align: right;\">\n",
       "      <th></th>\n",
       "      <th>title</th>\n",
       "      <th>heading</th>\n",
       "      <th>content</th>\n",
       "      <th>tokens</th>\n",
       "    </tr>\n",
       "  </thead>\n",
       "  <tbody>\n",
       "    <tr>\n",
       "      <th>0</th>\n",
       "      <td>2020 Summer Olympics</td>\n",
       "      <td>Summary</td>\n",
       "      <td>The 2020 Summer Olympics (Japanese: 2020年夏季オリン...</td>\n",
       "      <td>726</td>\n",
       "    </tr>\n",
       "    <tr>\n",
       "      <th>1</th>\n",
       "      <td>2020 Summer Olympics</td>\n",
       "      <td>Host city selection</td>\n",
       "      <td>The International Olympic Committee (IOC) vote...</td>\n",
       "      <td>126</td>\n",
       "    </tr>\n",
       "    <tr>\n",
       "      <th>2</th>\n",
       "      <td>2020 Summer Olympics</td>\n",
       "      <td>Impact of the COVID-19 pandemic</td>\n",
       "      <td>In January 2020, concerns were raised about th...</td>\n",
       "      <td>374</td>\n",
       "    </tr>\n",
       "    <tr>\n",
       "      <th>3</th>\n",
       "      <td>2020 Summer Olympics</td>\n",
       "      <td>Qualifying event cancellation and postponement</td>\n",
       "      <td>Concerns about the pandemic began to affect qu...</td>\n",
       "      <td>298</td>\n",
       "    </tr>\n",
       "    <tr>\n",
       "      <th>4</th>\n",
       "      <td>2020 Summer Olympics</td>\n",
       "      <td>Effect on doping tests</td>\n",
       "      <td>Mandatory doping tests were being severely res...</td>\n",
       "      <td>163</td>\n",
       "    </tr>\n",
       "  </tbody>\n",
       "</table>\n",
       "</div>"
      ],
      "text/plain": [
       "                  title                                         heading  \\\n",
       "0  2020 Summer Olympics                                         Summary   \n",
       "1  2020 Summer Olympics                             Host city selection   \n",
       "2  2020 Summer Olympics                 Impact of the COVID-19 pandemic   \n",
       "3  2020 Summer Olympics  Qualifying event cancellation and postponement   \n",
       "4  2020 Summer Olympics                          Effect on doping tests   \n",
       "\n",
       "                                             content  tokens  \n",
       "0  The 2020 Summer Olympics (Japanese: 2020年夏季オリン...     726  \n",
       "1  The International Olympic Committee (IOC) vote...     126  \n",
       "2  In January 2020, concerns were raised about th...     374  \n",
       "3  Concerns about the pandemic began to affect qu...     298  \n",
       "4  Mandatory doping tests were being severely res...     163  "
      ]
     },
     "execution_count": 5,
     "metadata": {},
     "output_type": "execute_result"
    }
   ],
   "source": [
    "documents_df = pd.read_csv(data_path)\n",
    "\n",
    "print(f\"Number of documents: {len(documents_df)}\")\n",
    "documents_df.head()"
   ]
  },
  {
   "attachments": {},
   "cell_type": "markdown",
   "metadata": {},
   "source": [
    "## 3.0 Load embeddings into Azure Table\n",
    "\n",
    "### 3.1 Create an Azure Table"
   ]
  },
  {
   "cell_type": "code",
   "execution_count": 6,
   "metadata": {},
   "outputs": [],
   "source": [
    "# delete the table if needed; this operation takes a couple of minutes\n",
    "# table_service_client.delete_table(table_name=TABLE_NAME)"
   ]
  },
  {
   "cell_type": "code",
   "execution_count": 7,
   "metadata": {},
   "outputs": [],
   "source": [
    "# create a table\n",
    "table_service_client.create_table(table_name=TABLE_NAME)\n",
    "\n",
    "# get the table client\n",
    "table_client = table_service_client.get_table_client(table_name=TABLE_NAME)"
   ]
  },
  {
   "attachments": {},
   "cell_type": "markdown",
   "metadata": {},
   "source": [
    "### 3.2 Create embeddings from the text and loading it into an Azure Table"
   ]
  },
  {
   "cell_type": "code",
   "execution_count": 8,
   "metadata": {},
   "outputs": [],
   "source": [
    "# Defining a helper function to create embeddings from the text and retry when needed\n",
    "def get_embedding(text: str, model: str) -> list[float]:\n",
    "    retries = 0\n",
    "    max_retries = 5\n",
    "\n",
    "    while retries < max_retries:\n",
    "        try:\n",
    "            result = openai.Embedding.create(\n",
    "                engine=model,\n",
    "                input=text\n",
    "            )\n",
    "            break\n",
    "        except openai.error.RateLimitError as e:\n",
    "            print(\"Rate limit exceeded, retrying in 12 seconds\")\n",
    "            retries += 1\n",
    "            time.sleep(12)\n",
    "\n",
    "    return result[\"data\"][0][\"embedding\"]"
   ]
  },
  {
   "cell_type": "code",
   "execution_count": 9,
   "metadata": {},
   "outputs": [
    {
     "name": "stdout",
     "output_type": "stream",
     "text": [
      "Processed 0 documents\n",
      "Processed 25 documents\n",
      "Rate limit exceeded, retrying in 12 seconds\n",
      "Processed 50 documents\n",
      "Processed 75 documents\n"
     ]
    }
   ],
   "source": [
    "for i, row in documents_df.iloc[0:100].iterrows(): # for simplicity, only processing the first 100 documents\n",
    "\n",
    "    embedding =  get_embedding(row['content'], TEXT_SEARCH_EMBEDDING_ENGINE)\n",
    "\n",
    "    # add a row to the table\n",
    "    table_client.create_entity({\n",
    "            'PartitionKey': row['title'], \n",
    "            'RowKey': str(i),\n",
    "            'embedding': json.dumps(embedding),\n",
    "            'content': row['content']\n",
    "        }\n",
    "    )\n",
    "\n",
    "    if i % 25 == 0:\n",
    "        print(f\"Processed {i} documents\")\n"
   ]
  }
 ],
 "metadata": {
  "kernelspec": {
   "display_name": "base",
   "language": "python",
   "name": "python3"
  },
  "language_info": {
   "codemirror_mode": {
    "name": "ipython",
    "version": 3
   },
   "file_extension": ".py",
   "mimetype": "text/x-python",
   "name": "python",
   "nbconvert_exporter": "python",
   "pygments_lexer": "ipython3",
   "version": "3.9.7"
  },
  "orig_nbformat": 4,
  "vscode": {
   "interpreter": {
    "hash": "fc180f703c9255d3d630e6d09ed4eb3355d27845db546035ce1b410f2bfa43b7"
   }
  }
 },
 "nbformat": 4,
 "nbformat_minor": 2
}
