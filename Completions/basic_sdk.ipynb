{
 "cells": [
  {
   "cell_type": "markdown",
   "id": "011db2ec",
   "metadata": {},
   "source": [
    "#  Python SDK samples\n",
    "\n",
    "## Create a Completion\n",
    "\n",
    "Given a prompt, the model will return one or more predicted completions, and can also return the probabilities of alternative tokens at each position."
   ]
  },
  {
   "cell_type": "code",
   "execution_count": 1,
   "id": "a92744f4",
   "metadata": {},
   "outputs": [],
   "source": [
    "import json\n",
    "import openai\n",
    "import os"
   ]
  },
  {
   "cell_type": "markdown",
   "id": "e1966c51",
   "metadata": {},
   "source": [
    "### Setup"
   ]
  },
  {
   "cell_type": "code",
   "execution_count": 2,
   "id": "19ae1e36",
   "metadata": {},
   "outputs": [],
   "source": [
    "# Load config values\n",
    "with open(r'../../config.json') as config_file:\n",
    "    config_details = json.load(config_file)\n",
    "    \n",
    "deployment_name = config_details['DEPLOYMENT_NAME']\n",
    "resource_name = config_details['RESOURCE_NAME']\n",
    "openai_api_version = config_details['API_VERSION']"
   ]
  },
  {
   "cell_type": "code",
   "execution_count": 3,
   "id": "b15862a1",
   "metadata": {},
   "outputs": [
    {
     "name": "stdout",
     "output_type": "stream",
     "text": [
      "Hello! Welcome to the world!\n"
     ]
    }
   ],
   "source": [
    "openai.api_type = \"azure\"\n",
    "openai.api_key = os.getenv(\"OPENAI_API_KEY\")\n",
    "openai.api_base = f\"https://{resource_name}.openai.azure.com\"\n",
    "openai.api_version = openai_api_version\n",
    "\n",
    "# Give your prompt here\n",
    "prompt = \"Hello world\"\n",
    "\n",
    "# create a completion\n",
    "completion = openai.Completion.create(\n",
    "                    prompt=prompt,\n",
    "                    temperature=0,\n",
    "                    max_tokens=30,\n",
    "                    engine=deployment_name)\n",
    "\n",
    "# print the completion\n",
    "print(completion.choices[0].text.strip(\" \\n\"))"
   ]
  }
 ],
 "metadata": {
  "kernelspec": {
   "display_name": "Python 3 (ipykernel)",
   "language": "python",
   "name": "python3"
  },
  "language_info": {
   "codemirror_mode": {
    "name": "ipython",
    "version": 3
   },
   "file_extension": ".py",
   "mimetype": "text/x-python",
   "name": "python",
   "nbconvert_exporter": "python",
   "pygments_lexer": "ipython3",
   "version": "3.11.1"
  }
 },
 "nbformat": 4,
 "nbformat_minor": 5
}
